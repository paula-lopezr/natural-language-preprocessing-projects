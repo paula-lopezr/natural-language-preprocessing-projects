{
  "cells": [
    {
      "cell_type": "markdown",
      "id": "303d9d7f-d97e-4164-ac4a-31af770822a0",
      "metadata": {
        "id": "303d9d7f-d97e-4164-ac4a-31af770822a0"
      },
      "source": [
        "# Taller 1 de NLP: Procesando textos con técnicas simples\n",
        "\n",
        "**Jessenia Piza, Paula Lorena López, Laura Alejandra Salazar.**"
      ]
    },
    {
      "cell_type": "markdown",
      "id": "4deb9569-4d68-40a4-9398-84a8f533f20a",
      "metadata": {
        "id": "4deb9569-4d68-40a4-9398-84a8f533f20a"
      },
      "source": [
        "Para este taller deberás disponer de algunas librerías como scikit-learn, NLTK, spacy y fbpca. "
      ]
    },
    {
      "cell_type": "markdown",
      "id": "4d569b3f-e550-4c4e-83c5-39c4dec75558",
      "metadata": {
        "id": "4d569b3f-e550-4c4e-83c5-39c4dec75558"
      },
      "source": [
        "En este taller trabajaremos con el dataset `progressive-tweet-sentiment` el cual tiene algunos tweets recopilados y categorizados en 4 clases: 'Legalization of Abortion', 'Hillary Clinton', 'Feminist Movement', 'Atheism'. "
      ]
    },
    {
      "cell_type": "markdown",
      "source": [
        "De esta manera, leeremos los datos por medio de la librería `pandas."
      ],
      "metadata": {
        "id": "3H5N4sJEd-h_"
      },
      "id": "3H5N4sJEd-h_"
    },
    {
      "cell_type": "code",
      "execution_count": 1,
      "id": "2efe95f0-b3e2-4eee-9414-af171d5299e1",
      "metadata": {
        "execution": {
          "iopub.execute_input": "2022-02-02T13:38:17.039804Z",
          "iopub.status.busy": "2022-02-02T13:38:17.039503Z",
          "iopub.status.idle": "2022-02-02T13:38:17.056137Z",
          "shell.execute_reply": "2022-02-02T13:38:17.055721Z",
          "shell.execute_reply.started": "2022-02-02T13:38:17.039781Z"
        },
        "tags": [],
        "id": "2efe95f0-b3e2-4eee-9414-af171d5299e1",
        "outputId": "062a94e5-1434-49f9-ceb0-da9ea5ca3ff3",
        "colab": {
          "base_uri": "https://localhost:8080/",
          "height": 206
        }
      },
      "outputs": [
        {
          "output_type": "execute_result",
          "data": {
            "text/plain": [
              "                     target                                              tweet\n",
              "0  Legalization of Abortion  Thank you for another day of life Lord. #Chris...\n",
              "1  Legalization of Abortion  @rosaryrevival Lovely to use Glorious Mysterie...\n",
              "2  Legalization of Abortion  @Niall250 good thing is that #DUP have consist...\n",
              "3  Legalization of Abortion  So, you tell me... is murder okay if the victi...\n",
              "4  Legalization of Abortion  @HillaryClinton Don't you mean to say (all chi..."
            ],
            "text/html": [
              "\n",
              "  <div id=\"df-e379e40f-c798-4f30-813d-fd1bd8d0745b\">\n",
              "    <div class=\"colab-df-container\">\n",
              "      <div>\n",
              "<style scoped>\n",
              "    .dataframe tbody tr th:only-of-type {\n",
              "        vertical-align: middle;\n",
              "    }\n",
              "\n",
              "    .dataframe tbody tr th {\n",
              "        vertical-align: top;\n",
              "    }\n",
              "\n",
              "    .dataframe thead th {\n",
              "        text-align: right;\n",
              "    }\n",
              "</style>\n",
              "<table border=\"1\" class=\"dataframe\">\n",
              "  <thead>\n",
              "    <tr style=\"text-align: right;\">\n",
              "      <th></th>\n",
              "      <th>target</th>\n",
              "      <th>tweet</th>\n",
              "    </tr>\n",
              "  </thead>\n",
              "  <tbody>\n",
              "    <tr>\n",
              "      <th>0</th>\n",
              "      <td>Legalization of Abortion</td>\n",
              "      <td>Thank you for another day of life Lord. #Chris...</td>\n",
              "    </tr>\n",
              "    <tr>\n",
              "      <th>1</th>\n",
              "      <td>Legalization of Abortion</td>\n",
              "      <td>@rosaryrevival Lovely to use Glorious Mysterie...</td>\n",
              "    </tr>\n",
              "    <tr>\n",
              "      <th>2</th>\n",
              "      <td>Legalization of Abortion</td>\n",
              "      <td>@Niall250 good thing is that #DUP have consist...</td>\n",
              "    </tr>\n",
              "    <tr>\n",
              "      <th>3</th>\n",
              "      <td>Legalization of Abortion</td>\n",
              "      <td>So, you tell me... is murder okay if the victi...</td>\n",
              "    </tr>\n",
              "    <tr>\n",
              "      <th>4</th>\n",
              "      <td>Legalization of Abortion</td>\n",
              "      <td>@HillaryClinton Don't you mean to say (all chi...</td>\n",
              "    </tr>\n",
              "  </tbody>\n",
              "</table>\n",
              "</div>\n",
              "      <button class=\"colab-df-convert\" onclick=\"convertToInteractive('df-e379e40f-c798-4f30-813d-fd1bd8d0745b')\"\n",
              "              title=\"Convert this dataframe to an interactive table.\"\n",
              "              style=\"display:none;\">\n",
              "        \n",
              "  <svg xmlns=\"http://www.w3.org/2000/svg\" height=\"24px\"viewBox=\"0 0 24 24\"\n",
              "       width=\"24px\">\n",
              "    <path d=\"M0 0h24v24H0V0z\" fill=\"none\"/>\n",
              "    <path d=\"M18.56 5.44l.94 2.06.94-2.06 2.06-.94-2.06-.94-.94-2.06-.94 2.06-2.06.94zm-11 1L8.5 8.5l.94-2.06 2.06-.94-2.06-.94L8.5 2.5l-.94 2.06-2.06.94zm10 10l.94 2.06.94-2.06 2.06-.94-2.06-.94-.94-2.06-.94 2.06-2.06.94z\"/><path d=\"M17.41 7.96l-1.37-1.37c-.4-.4-.92-.59-1.43-.59-.52 0-1.04.2-1.43.59L10.3 9.45l-7.72 7.72c-.78.78-.78 2.05 0 2.83L4 21.41c.39.39.9.59 1.41.59.51 0 1.02-.2 1.41-.59l7.78-7.78 2.81-2.81c.8-.78.8-2.07 0-2.86zM5.41 20L4 18.59l7.72-7.72 1.47 1.35L5.41 20z\"/>\n",
              "  </svg>\n",
              "      </button>\n",
              "      \n",
              "  <style>\n",
              "    .colab-df-container {\n",
              "      display:flex;\n",
              "      flex-wrap:wrap;\n",
              "      gap: 12px;\n",
              "    }\n",
              "\n",
              "    .colab-df-convert {\n",
              "      background-color: #E8F0FE;\n",
              "      border: none;\n",
              "      border-radius: 50%;\n",
              "      cursor: pointer;\n",
              "      display: none;\n",
              "      fill: #1967D2;\n",
              "      height: 32px;\n",
              "      padding: 0 0 0 0;\n",
              "      width: 32px;\n",
              "    }\n",
              "\n",
              "    .colab-df-convert:hover {\n",
              "      background-color: #E2EBFA;\n",
              "      box-shadow: 0px 1px 2px rgba(60, 64, 67, 0.3), 0px 1px 3px 1px rgba(60, 64, 67, 0.15);\n",
              "      fill: #174EA6;\n",
              "    }\n",
              "\n",
              "    [theme=dark] .colab-df-convert {\n",
              "      background-color: #3B4455;\n",
              "      fill: #D2E3FC;\n",
              "    }\n",
              "\n",
              "    [theme=dark] .colab-df-convert:hover {\n",
              "      background-color: #434B5C;\n",
              "      box-shadow: 0px 1px 3px 1px rgba(0, 0, 0, 0.15);\n",
              "      filter: drop-shadow(0px 1px 2px rgba(0, 0, 0, 0.3));\n",
              "      fill: #FFFFFF;\n",
              "    }\n",
              "  </style>\n",
              "\n",
              "      <script>\n",
              "        const buttonEl =\n",
              "          document.querySelector('#df-e379e40f-c798-4f30-813d-fd1bd8d0745b button.colab-df-convert');\n",
              "        buttonEl.style.display =\n",
              "          google.colab.kernel.accessAllowed ? 'block' : 'none';\n",
              "\n",
              "        async function convertToInteractive(key) {\n",
              "          const element = document.querySelector('#df-e379e40f-c798-4f30-813d-fd1bd8d0745b');\n",
              "          const dataTable =\n",
              "            await google.colab.kernel.invokeFunction('convertToInteractive',\n",
              "                                                     [key], {});\n",
              "          if (!dataTable) return;\n",
              "\n",
              "          const docLinkHtml = 'Like what you see? Visit the ' +\n",
              "            '<a target=\"_blank\" href=https://colab.research.google.com/notebooks/data_table.ipynb>data table notebook</a>'\n",
              "            + ' to learn more about interactive tables.';\n",
              "          element.innerHTML = '';\n",
              "          dataTable['output_type'] = 'display_data';\n",
              "          await google.colab.output.renderOutput(dataTable, element);\n",
              "          const docLink = document.createElement('div');\n",
              "          docLink.innerHTML = docLinkHtml;\n",
              "          element.appendChild(docLink);\n",
              "        }\n",
              "      </script>\n",
              "    </div>\n",
              "  </div>\n",
              "  "
            ]
          },
          "metadata": {},
          "execution_count": 1
        }
      ],
      "source": [
        "import pandas as pd\n",
        "df = pd.read_csv(\"progressive-tweet-sentiment.csv\",encoding='latin-1')\n",
        "df = df[[\"target\", \"tweet\"]]\n",
        "df.head()"
      ]
    },
    {
      "cell_type": "markdown",
      "source": [
        "## Punto 1\n",
        "Realice procedimientos para preprocesar texto cómo: tokenizar, convertir a minúsculas y remover puntuaciones y algunos carácteres especiales (para esto puede usar expresiones regulares con la librería re, eliminar stopwords, stemming y lemmatization. Al final, el resultado de dicho procesamiento debe ser un texto (no una lista de palabras). Sugerencia: inicie y finalice con métodos de strings de python como .join() o .split()."
      ],
      "metadata": {
        "id": "Lx51kMD32fKs"
      },
      "id": "Lx51kMD32fKs"
    },
    {
      "cell_type": "markdown",
      "source": [
        "Importamos todas las librerías que utilizaremos a lo largo del taller."
      ],
      "metadata": {
        "id": "Ex9Tce6ho273"
      },
      "id": "Ex9Tce6ho273"
    },
    {
      "cell_type": "code",
      "source": [
        "import nltk\n",
        "from sklearn.feature_extraction.text import CountVectorizer, TfidfVectorizer\n",
        "from sklearn.decomposition import NMF\n",
        "from scipy import linalg\n",
        "import numpy as np\n",
        "import matplotlib.pyplot as plt\n",
        "from sklearn import decomposition\n",
        "from collections import Counter\n",
        "from tqdm import tqdm\n",
        "from scipy.sparse import csr_matrix\n",
        "import math\n",
        "import operator\n",
        "from sklearn.preprocessing import normalize\n",
        "from sklearn.decomposition import PCA"
      ],
      "metadata": {
        "id": "L3yGbtuHFpKY"
      },
      "id": "L3yGbtuHFpKY",
      "execution_count": 2,
      "outputs": []
    },
    {
      "cell_type": "markdown",
      "source": [
        "Definimos la función que tokeniza cada oración que va entrando. \n",
        "Esto se hace con el fin de que sea mas sencillo el análisis de las palabras."
      ],
      "metadata": {
        "id": "TXeJIrlAo-dm"
      },
      "id": "TXeJIrlAo-dm"
    },
    {
      "cell_type": "code",
      "source": [
        "def tokenizer(tweet):\n",
        "  token = nltk.RegexpTokenizer(r\"\\w+\")\n",
        "  list_tweet = token.tokenize(tweet)\n",
        "  ps = nltk.stem.PorterStemmer()\n",
        "  list_tweet = [x.lower() for x in list_tweet]\n",
        "  list_tweet = [ps.stem(x) for x in list_tweet]\n",
        "  return \" \".join(list_tweet)\n"
      ],
      "metadata": {
        "id": "FV3f_Q03DHyG"
      },
      "id": "FV3f_Q03DHyG",
      "execution_count": 3,
      "outputs": []
    },
    {
      "cell_type": "code",
      "source": [
        "df[\"tweet\"] = df[\"tweet\"].apply(tokenizer)\n",
        "df[\"target\"] = df[\"target\"].apply(tokenizer)\n",
        "df.head()"
      ],
      "metadata": {
        "id": "7WBMOPKiPYWO",
        "colab": {
          "base_uri": "https://localhost:8080/",
          "height": 206
        },
        "outputId": "f6c538dd-f2f0-417d-b18d-8ec441d4c604"
      },
      "id": "7WBMOPKiPYWO",
      "execution_count": 4,
      "outputs": [
        {
          "output_type": "execute_result",
          "data": {
            "text/plain": [
              "           target                                              tweet\n",
              "0  legal of abort  thank you for anoth day of life lord christian...\n",
              "1  legal of abort  rosaryreviv love to use gloriou mysteri dure e...\n",
              "2  legal of abort  niall250 good thing is that dup have consist s...\n",
              "3  legal of abort  so you tell me is murder okay if the victim is...\n",
              "4  legal of abort  hillaryclinton don t you mean to say all child..."
            ],
            "text/html": [
              "\n",
              "  <div id=\"df-a7d569ee-c3a4-4a39-a4b8-0ca97420be1b\">\n",
              "    <div class=\"colab-df-container\">\n",
              "      <div>\n",
              "<style scoped>\n",
              "    .dataframe tbody tr th:only-of-type {\n",
              "        vertical-align: middle;\n",
              "    }\n",
              "\n",
              "    .dataframe tbody tr th {\n",
              "        vertical-align: top;\n",
              "    }\n",
              "\n",
              "    .dataframe thead th {\n",
              "        text-align: right;\n",
              "    }\n",
              "</style>\n",
              "<table border=\"1\" class=\"dataframe\">\n",
              "  <thead>\n",
              "    <tr style=\"text-align: right;\">\n",
              "      <th></th>\n",
              "      <th>target</th>\n",
              "      <th>tweet</th>\n",
              "    </tr>\n",
              "  </thead>\n",
              "  <tbody>\n",
              "    <tr>\n",
              "      <th>0</th>\n",
              "      <td>legal of abort</td>\n",
              "      <td>thank you for anoth day of life lord christian...</td>\n",
              "    </tr>\n",
              "    <tr>\n",
              "      <th>1</th>\n",
              "      <td>legal of abort</td>\n",
              "      <td>rosaryreviv love to use gloriou mysteri dure e...</td>\n",
              "    </tr>\n",
              "    <tr>\n",
              "      <th>2</th>\n",
              "      <td>legal of abort</td>\n",
              "      <td>niall250 good thing is that dup have consist s...</td>\n",
              "    </tr>\n",
              "    <tr>\n",
              "      <th>3</th>\n",
              "      <td>legal of abort</td>\n",
              "      <td>so you tell me is murder okay if the victim is...</td>\n",
              "    </tr>\n",
              "    <tr>\n",
              "      <th>4</th>\n",
              "      <td>legal of abort</td>\n",
              "      <td>hillaryclinton don t you mean to say all child...</td>\n",
              "    </tr>\n",
              "  </tbody>\n",
              "</table>\n",
              "</div>\n",
              "      <button class=\"colab-df-convert\" onclick=\"convertToInteractive('df-a7d569ee-c3a4-4a39-a4b8-0ca97420be1b')\"\n",
              "              title=\"Convert this dataframe to an interactive table.\"\n",
              "              style=\"display:none;\">\n",
              "        \n",
              "  <svg xmlns=\"http://www.w3.org/2000/svg\" height=\"24px\"viewBox=\"0 0 24 24\"\n",
              "       width=\"24px\">\n",
              "    <path d=\"M0 0h24v24H0V0z\" fill=\"none\"/>\n",
              "    <path d=\"M18.56 5.44l.94 2.06.94-2.06 2.06-.94-2.06-.94-.94-2.06-.94 2.06-2.06.94zm-11 1L8.5 8.5l.94-2.06 2.06-.94-2.06-.94L8.5 2.5l-.94 2.06-2.06.94zm10 10l.94 2.06.94-2.06 2.06-.94-2.06-.94-.94-2.06-.94 2.06-2.06.94z\"/><path d=\"M17.41 7.96l-1.37-1.37c-.4-.4-.92-.59-1.43-.59-.52 0-1.04.2-1.43.59L10.3 9.45l-7.72 7.72c-.78.78-.78 2.05 0 2.83L4 21.41c.39.39.9.59 1.41.59.51 0 1.02-.2 1.41-.59l7.78-7.78 2.81-2.81c.8-.78.8-2.07 0-2.86zM5.41 20L4 18.59l7.72-7.72 1.47 1.35L5.41 20z\"/>\n",
              "  </svg>\n",
              "      </button>\n",
              "      \n",
              "  <style>\n",
              "    .colab-df-container {\n",
              "      display:flex;\n",
              "      flex-wrap:wrap;\n",
              "      gap: 12px;\n",
              "    }\n",
              "\n",
              "    .colab-df-convert {\n",
              "      background-color: #E8F0FE;\n",
              "      border: none;\n",
              "      border-radius: 50%;\n",
              "      cursor: pointer;\n",
              "      display: none;\n",
              "      fill: #1967D2;\n",
              "      height: 32px;\n",
              "      padding: 0 0 0 0;\n",
              "      width: 32px;\n",
              "    }\n",
              "\n",
              "    .colab-df-convert:hover {\n",
              "      background-color: #E2EBFA;\n",
              "      box-shadow: 0px 1px 2px rgba(60, 64, 67, 0.3), 0px 1px 3px 1px rgba(60, 64, 67, 0.15);\n",
              "      fill: #174EA6;\n",
              "    }\n",
              "\n",
              "    [theme=dark] .colab-df-convert {\n",
              "      background-color: #3B4455;\n",
              "      fill: #D2E3FC;\n",
              "    }\n",
              "\n",
              "    [theme=dark] .colab-df-convert:hover {\n",
              "      background-color: #434B5C;\n",
              "      box-shadow: 0px 1px 3px 1px rgba(0, 0, 0, 0.15);\n",
              "      filter: drop-shadow(0px 1px 2px rgba(0, 0, 0, 0.3));\n",
              "      fill: #FFFFFF;\n",
              "    }\n",
              "  </style>\n",
              "\n",
              "      <script>\n",
              "        const buttonEl =\n",
              "          document.querySelector('#df-a7d569ee-c3a4-4a39-a4b8-0ca97420be1b button.colab-df-convert');\n",
              "        buttonEl.style.display =\n",
              "          google.colab.kernel.accessAllowed ? 'block' : 'none';\n",
              "\n",
              "        async function convertToInteractive(key) {\n",
              "          const element = document.querySelector('#df-a7d569ee-c3a4-4a39-a4b8-0ca97420be1b');\n",
              "          const dataTable =\n",
              "            await google.colab.kernel.invokeFunction('convertToInteractive',\n",
              "                                                     [key], {});\n",
              "          if (!dataTable) return;\n",
              "\n",
              "          const docLinkHtml = 'Like what you see? Visit the ' +\n",
              "            '<a target=\"_blank\" href=https://colab.research.google.com/notebooks/data_table.ipynb>data table notebook</a>'\n",
              "            + ' to learn more about interactive tables.';\n",
              "          element.innerHTML = '';\n",
              "          dataTable['output_type'] = 'display_data';\n",
              "          await google.colab.output.renderOutput(dataTable, element);\n",
              "          const docLink = document.createElement('div');\n",
              "          docLink.innerHTML = docLinkHtml;\n",
              "          element.appendChild(docLink);\n",
              "        }\n",
              "      </script>\n",
              "    </div>\n",
              "  </div>\n",
              "  "
            ]
          },
          "metadata": {},
          "execution_count": 4
        }
      ]
    },
    {
      "cell_type": "markdown",
      "id": "d380b941-ec9e-44dd-b69e-7da295ef20f5",
      "metadata": {
        "id": "d380b941-ec9e-44dd-b69e-7da295ef20f5"
      },
      "source": [
        "## Punto 2\n",
        ". Realice un estrategia de Bag of Words (BoW).  Produzca una mátriz término-documento, en este caso un simple conteo de palabras (`sklearn.feature_extraction.text.CountVectorizer`). ¿Cúal es el vocabulario? ¿Cuál es la dimensión de la matriz?"
      ]
    },
    {
      "cell_type": "markdown",
      "source": [
        "Se crea un vocabulario teniendo en cuentas las palabras ya tokenizadas. Estas palabras son sacadas de los tweets importados."
      ],
      "metadata": {
        "id": "UZ0kkOo0pb3S"
      },
      "id": "UZ0kkOo0pb3S"
    },
    {
      "cell_type": "code",
      "source": [
        "vectorizer = CountVectorizer(stop_words='english')\n",
        "vectors = vectorizer.fit_transform(df['tweet']).todense()"
      ],
      "metadata": {
        "id": "pMdNRhuSJ34_"
      },
      "id": "pMdNRhuSJ34_",
      "execution_count": 5,
      "outputs": []
    },
    {
      "cell_type": "code",
      "source": [
        "vocab = vectorizer.get_feature_names()\n",
        "vocab = np.array(vocab) \n",
        "vocab[1050:1070]"
      ],
      "metadata": {
        "id": "1LVnMxmVT0Ln",
        "colab": {
          "base_uri": "https://localhost:8080/"
        },
        "outputId": "5f9fc00b-8e9b-44e0-efc0-f5f5b85bcf54"
      },
      "id": "1LVnMxmVT0Ln",
      "execution_count": 6,
      "outputs": [
        {
          "output_type": "stream",
          "name": "stderr",
          "text": [
            "/usr/local/lib/python3.7/dist-packages/sklearn/utils/deprecation.py:87: FutureWarning: Function get_feature_names is deprecated; get_feature_names is deprecated in 1.0 and will be removed in 1.2. Please use get_feature_names_out instead.\n",
            "  warnings.warn(msg, category=FutureWarning)\n"
          ]
        },
        {
          "output_type": "execute_result",
          "data": {
            "text/plain": [
              "array(['earn', 'earth', 'earthquak', 'easi', 'easier', 'easili',\n",
              "       'eastertid', 'easyweightloss', 'eat', 'eco', 'econom', 'economi',\n",
              "       'ecstat', 'ed', 'ed_miliband', 'edg', 'edgi', 'edm', 'educ',\n",
              "       'effect'], dtype='<U31')"
            ]
          },
          "metadata": {},
          "execution_count": 6
        }
      ]
    },
    {
      "cell_type": "markdown",
      "source": [
        "Podemos evidenciar alguna palabras del vocabulario. \n",
        "El vocabulario tiene una dimensión de 3795."
      ],
      "metadata": {
        "id": "np0SrR3grSBJ"
      },
      "id": "np0SrR3grSBJ"
    },
    {
      "cell_type": "code",
      "source": [
        "vocab.shape"
      ],
      "metadata": {
        "colab": {
          "base_uri": "https://localhost:8080/"
        },
        "id": "4vXWwXIgpzUQ",
        "outputId": "6e5fcb6c-1ec0-490c-9213-4c6ddcb18040"
      },
      "id": "4vXWwXIgpzUQ",
      "execution_count": 7,
      "outputs": [
        {
          "output_type": "execute_result",
          "data": {
            "text/plain": [
              "(3795,)"
            ]
          },
          "metadata": {},
          "execution_count": 7
        }
      ]
    },
    {
      "cell_type": "markdown",
      "id": "c3a66dc5-7b79-49f5-aeb4-e6378a4f38e9",
      "metadata": {
        "id": "c3a66dc5-7b79-49f5-aeb4-e6378a4f38e9"
      },
      "source": [
        "## Punto 3\n",
        "Escoga un número de tópicos o temas (no muy grande, entre 4 y 10) y realice un análisis mediante factorización de valores singulares (SVD) de la matriz de término-documento obtenida anteriormente. ¿Qué interpretación puede realizar? ¿Qué puede concluir a través de las matrices U, S y V? . Recuerde que este procedimiento es aprendizaje NO supervisado."
      ]
    },
    {
      "cell_type": "markdown",
      "source": [
        "Para hacer la factorización de los valores singulares (SVD), se deben observar las matrices dadas por la función `Linalg`"
      ],
      "metadata": {
        "id": "Vs6_J2Jp3Kp4"
      },
      "id": "Vs6_J2Jp3Kp4"
    },
    {
      "cell_type": "code",
      "source": [
        "U, s, Vh = linalg.svd(vectors, full_matrices=False)"
      ],
      "metadata": {
        "id": "F01sgrAWza5l"
      },
      "id": "F01sgrAWza5l",
      "execution_count": 8,
      "outputs": []
    },
    {
      "cell_type": "code",
      "source": [
        "print(U.shape, s.shape, Vh.shape)"
      ],
      "metadata": {
        "colab": {
          "base_uri": "https://localhost:8080/"
        },
        "id": "vYFxXUcAFgb0",
        "outputId": "169e69b8-f660-4645-ee48-f19d6c07a79a"
      },
      "id": "vYFxXUcAFgb0",
      "execution_count": 9,
      "outputs": [
        {
          "output_type": "stream",
          "name": "stdout",
          "text": [
            "(1159, 1159) (1159,) (1159, 3795)\n"
          ]
        }
      ]
    },
    {
      "cell_type": "code",
      "source": [
        "plt.plot(s);"
      ],
      "metadata": {
        "colab": {
          "base_uri": "https://localhost:8080/",
          "height": 265
        },
        "id": "p8sTSBAM4iIR",
        "outputId": "c1d8e8c8-336a-4bfc-f025-4c3d5d95938e"
      },
      "id": "p8sTSBAM4iIR",
      "execution_count": 10,
      "outputs": [
        {
          "output_type": "display_data",
          "data": {
            "text/plain": [
              "<Figure size 432x288 with 1 Axes>"
            ],
            "image/png": "[encoded data removed]"
          },
          "metadata": {
            "needs_background": "light"
          }
        }
      ]
    },
    {
      "cell_type": "markdown",
      "source": [
        "Podemos evidenciar que el cambio de comportamieto de la gráfica se da en 6, así que veremos el comportamiento en estos priimeros 6 datos."
      ],
      "metadata": {
        "id": "KVExFgTirrfz"
      },
      "id": "KVExFgTirrfz"
    },
    {
      "cell_type": "markdown",
      "source": [
        "Para una observación más detallada se tendrá en cuenta el comportamiento de las primera  columnas de la matriz."
      ],
      "metadata": {
        "id": "kg3msyDA3-bx"
      },
      "id": "kg3msyDA3-bx"
    },
    {
      "cell_type": "code",
      "source": [
        "plt.plot(s[:6])"
      ],
      "metadata": {
        "colab": {
          "base_uri": "https://localhost:8080/",
          "height": 283
        },
        "id": "703-_IcG5faI",
        "outputId": "f3f26ead-49ac-4e52-922e-f5882fb7f90e"
      },
      "id": "703-_IcG5faI",
      "execution_count": 11,
      "outputs": [
        {
          "output_type": "execute_result",
          "data": {
            "text/plain": [
              "[<matplotlib.lines.Line2D at 0x7f6853e1d710>]"
            ]
          },
          "metadata": {},
          "execution_count": 11
        },
        {
          "output_type": "display_data",
          "data": {
            "text/plain": [
              "<Figure size 432x288 with 1 Axes>"
            ],
            "image/png": "[encoded data removed]"
          },
          "metadata": {
            "needs_background": "light"
          }
        }
      ]
    },
    {
      "cell_type": "markdown",
      "source": [
        "Ahora bien, escogeremos como máximo de tópicos 6."
      ],
      "metadata": {
        "id": "0TzxhuCO4RPe"
      },
      "id": "0TzxhuCO4RPe"
    },
    {
      "cell_type": "code",
      "source": [
        "num_top_words=6\n",
        "\n",
        "def show_topics(a, vocab):\n",
        "    top_words = lambda t: [vocab[i] for i in np.argsort(t)[:-num_top_words-1:-1]]\n",
        "    topic_words = ([top_words(t) for t in a])\n",
        "    return [' '.join(t) for t in topic_words]\n"
      ],
      "metadata": {
        "id": "ftHLXt9d5oUL"
      },
      "id": "ftHLXt9d5oUL",
      "execution_count": 12,
      "outputs": []
    },
    {
      "cell_type": "code",
      "source": [
        "show_topics(Vh[:10], vocab)"
      ],
      "metadata": {
        "colab": {
          "base_uri": "https://localhost:8080/"
        },
        "id": "12rYfq5k5tC-",
        "outputId": "bc88b867-c9bd-4af9-86f8-61c6e6c909df"
      },
      "id": "12rYfq5k5tC-",
      "execution_count": 13,
      "outputs": [
        {
          "output_type": "execute_result",
          "data": {
            "text/plain": [
              "['_____ ____ ding dong genitalian lajouetrein',\n",
              " 'god love know life don thi',\n",
              " 'peopl abort don life hillari right',\n",
              " 'know don best feminist men want',\n",
              " 'hillaryclinton know hillari world best presid',\n",
              " 'peopl feminist want rt hillaryclinton thi',\n",
              " 'peopl abort know best women life',\n",
              " 'don love women want rt abort',\n",
              " 'rt readi 2016 marcorubio know futuretxlead',\n",
              " 'hillaryclinton peopl right world rt love']"
            ]
          },
          "metadata": {},
          "execution_count": 13
        }
      ]
    },
    {
      "cell_type": "markdown",
      "source": [
        "Podemos evidenciar que la religión, el aborto y el feminismo con los temas principales de los tweets teniendo en cuenta el método SVD."
      ],
      "metadata": {
        "id": "wpPUYGpe4roM"
      },
      "id": "wpPUYGpe4roM"
    },
    {
      "cell_type": "markdown",
      "id": "f7d23fd2-839d-49b5-b4a5-7135a26e58aa",
      "metadata": {
        "id": "f7d23fd2-839d-49b5-b4a5-7135a26e58aa"
      },
      "source": [
        "## Punto 4\n",
        "Repita `(3)` pero realizando una factorización no negativa de matrices (NMF). ¿Qué interpreta a partir de las matrices obtenidas H y W?"
      ]
    },
    {
      "cell_type": "code",
      "source": [
        "model_NMF = decomposition.NMF(n_components=5, init='nndsvda', random_state=1)  \n",
        "W = model_NMF.fit_transform(vectors) #Transformed data\n",
        "H = model_NMF.components_ #Factorization matrix, sometimes called ‘dictionary’."
      ],
      "metadata": {
        "colab": {
          "base_uri": "https://localhost:8080/"
        },
        "id": "wldYdKNjznHt",
        "outputId": "d968ad5e-876a-4a5e-a9d4-db5d0db916f8"
      },
      "id": "wldYdKNjznHt",
      "execution_count": 14,
      "outputs": [
        {
          "output_type": "stream",
          "name": "stderr",
          "text": [
            "/usr/local/lib/python3.7/dist-packages/sklearn/utils/validation.py:598: FutureWarning: np.matrix usage is deprecated in 1.0 and will raise a TypeError in 1.2. Please convert to a numpy array with np.asarray. For more information see: https://numpy.org/doc/stable/reference/generated/numpy.matrix.html\n",
            "  FutureWarning,\n"
          ]
        }
      ]
    },
    {
      "cell_type": "markdown",
      "source": [
        "Teniendo el resultado de la factorización no negativa de matrices (NMF), podemos obtener los temas principales de los que se tratan.\n"
      ],
      "metadata": {
        "id": "WOzvQ42b5HMk"
      },
      "id": "WOzvQ42b5HMk"
    },
    {
      "cell_type": "code",
      "source": [
        "show_topics(H, vocab)"
      ],
      "metadata": {
        "colab": {
          "base_uri": "https://localhost:8080/"
        },
        "id": "1NvNbhXQ5KJA",
        "outputId": "c5d9a25b-bffb-4435-b2e2-e2e977ac620f"
      },
      "id": "1NvNbhXQ5KJA",
      "execution_count": 15,
      "outputs": [
        {
          "output_type": "execute_result",
          "data": {
            "text/plain": [
              "['women men equal feminist need make',\n",
              " 'god love pray bless mother sinner',\n",
              " 'right don peopl abort feminist want',\n",
              " 'know best don happi way alway',\n",
              " 'hillaryclinton hillari rt world clinton thi']"
            ]
          },
          "metadata": {},
          "execution_count": 15
        }
      ]
    },
    {
      "cell_type": "markdown",
      "source": [
        "La religión, el aborto y el feminismo también son los temas principales según el método."
      ],
      "metadata": {
        "id": "Jzi4econ5_-F"
      },
      "id": "Jzi4econ5_-F"
    },
    {
      "cell_type": "markdown",
      "id": "3f64974c-3dc0-460d-a7aa-3c5e1475f208",
      "metadata": {
        "id": "3f64974c-3dc0-460d-a7aa-3c5e1475f208"
      },
      "source": [
        "# Punto 5\n",
        "\n",
        "Implemente desde cero el método de Topic Frequency - Inverse Document Frequency (TF-IDF). Compare el resultado en el dataset de tweets con la implementación de scikit-learn `sklearn.feature_extraction.text.TfidfVectorizer`. "
      ]
    },
    {
      "cell_type": "markdown",
      "source": [
        "### **Implementación con _Scikit_learn_**"
      ],
      "metadata": {
        "id": "yvg6jyGv_TC8"
      },
      "id": "yvg6jyGv_TC8"
    },
    {
      "cell_type": "code",
      "source": [
        "tw = df['tweet'].tolist()"
      ],
      "metadata": {
        "id": "ncizqkSJ7Ig7"
      },
      "id": "ncizqkSJ7Ig7",
      "execution_count": 16,
      "outputs": []
    },
    {
      "cell_type": "code",
      "source": [
        "vector_tfidf = TfidfVectorizer(stop_words='english')\n",
        "X = vector_tfidf.fit_transform(df['tweet'])\n",
        "print(X.shape)"
      ],
      "metadata": {
        "colab": {
          "base_uri": "https://localhost:8080/"
        },
        "id": "x4qPWu56-4dF",
        "outputId": "98f04fda-25c5-47f1-b805-5c73124fd920"
      },
      "id": "x4qPWu56-4dF",
      "execution_count": 17,
      "outputs": [
        {
          "output_type": "stream",
          "name": "stdout",
          "text": [
            "(1159, 3795)\n"
          ]
        }
      ]
    },
    {
      "cell_type": "markdown",
      "source": [
        "### **Implementado desde cero:**"
      ],
      "metadata": {
        "id": "W-q1IELV9N7J"
      },
      "id": "W-q1IELV9N7J"
    },
    {
      "cell_type": "markdown",
      "source": [
        "Se tienen dos funciones necesarias para crear el algoritmo."
      ],
      "metadata": {
        "id": "5f5lEzHYste3"
      },
      "id": "5f5lEzHYste3"
    },
    {
      "cell_type": "code",
      "source": [
        "def IDF(txt, unique_words):\n",
        "  idf_dict={}\n",
        "  N=len(txt)\n",
        "  for i in unique_words:\n",
        "    count=0\n",
        "    for sen in txt:\n",
        "      if i in sen.split():\n",
        "        count += 1\n",
        "      idf_dict[i]=(math.log((1+N)/(count+1)))+1\n",
        "  return idf_dict\n",
        "\n",
        "def fit(txt):\n",
        "  unique_words = set()\n",
        "  if isinstance(txt, (list,)):\n",
        "    for x in txt:\n",
        "      for y in x.split():\n",
        "        if len(y)<2:\n",
        "          continue\n",
        "        unique_words.add(y)\n",
        "    unique_words = sorted(list(unique_words))\n",
        "    vocab = {j:i for i,j in enumerate(unique_words)}\n",
        "    Idf_values=IDF(txt, unique_words)\n",
        "  return vocab, Idf_values"
      ],
      "metadata": {
        "id": "gF19Gnpj_gYM"
      },
      "id": "gF19Gnpj_gYM",
      "execution_count": 18,
      "outputs": []
    },
    {
      "cell_type": "code",
      "source": [
        "Vocabulary, idf_of_vocab = fit(tw)"
      ],
      "metadata": {
        "id": "Uf0_LqpDT_M5"
      },
      "id": "Uf0_LqpDT_M5",
      "execution_count": 19,
      "outputs": []
    },
    {
      "cell_type": "markdown",
      "source": [
        "Con esto, finalmente se crea una nueva función que tendrá la infromación necesaria para procesarla y el algoritmo sea ejecutado."
      ],
      "metadata": {
        "id": "e8RFDD81s8aQ"
      },
      "id": "e8RFDD81s8aQ"
    },
    {
      "cell_type": "code",
      "source": [
        "def transform(txt, vocabulary, idf_values):\n",
        "    sparse_matrix= csr_matrix( (len(txt), len(vocabulary)))\n",
        "    for row  in range(0,len(txt)):\n",
        "      words_sentence=Counter(txt[row].split())\n",
        "      for word in txt[row].split():\n",
        "          if word in  list(vocabulary.keys()):\n",
        "              tf_idf_value=(words_sentence[word]/len(txt[row].split()))*(idf_values[word])\n",
        "              sparse_matrix[row,vocabulary[word]]=tf_idf_value\n",
        "    output =normalize(sparse_matrix, norm='l2', axis=1, copy=True, return_norm=False)\n",
        "    return output"
      ],
      "metadata": {
        "id": "hrtXBF9sTkFI"
      },
      "id": "hrtXBF9sTkFI",
      "execution_count": 20,
      "outputs": []
    },
    {
      "cell_type": "code",
      "source": [
        "tf_idf = transform(tw, Vocabulary, idf_of_vocab)\n",
        "print(tf_idf.shape)"
      ],
      "metadata": {
        "colab": {
          "base_uri": "https://localhost:8080/"
        },
        "id": "Ckntp4tAQpRK",
        "outputId": "7f5636ae-d5ef-45bf-c797-9cf77da4e4f1"
      },
      "id": "Ckntp4tAQpRK",
      "execution_count": 21,
      "outputs": [
        {
          "output_type": "stream",
          "name": "stderr",
          "text": [
            "/usr/local/lib/python3.7/dist-packages/scipy/sparse/_index.py:84: SparseEfficiencyWarning: Changing the sparsity structure of a csr_matrix is expensive. lil_matrix is more efficient.\n",
            "  self._set_intXint(row, col, x.flat[0])\n"
          ]
        },
        {
          "output_type": "stream",
          "name": "stdout",
          "text": [
            "(1159, 3977)\n"
          ]
        }
      ]
    },
    {
      "cell_type": "markdown",
      "source": [
        "Finalmente, tenemos el algortimo. \n",
        "Podemos evidenciar que el algortimo de la librería `scikit learn`, tiene un resultado parecido al ejecutado."
      ],
      "metadata": {
        "id": "GPonWy31tGQG"
      },
      "id": "GPonWy31tGQG"
    },
    {
      "cell_type": "markdown",
      "id": "f9e1700b-74a2-4bd1-8945-70e675f9bc1c",
      "metadata": {
        "id": "f9e1700b-74a2-4bd1-8945-70e675f9bc1c"
      },
      "source": [
        "## Punto 6\n",
        "Repita los puntos `(3)` y `(4)` pero con base en la matriz obtenida al realizar TF-IDF\n"
      ]
    },
    {
      "cell_type": "code",
      "source": [
        "tf_idf\n",
        "tf_idf = tf_idf.todense()"
      ],
      "metadata": {
        "id": "5k4dIzJeUx-m"
      },
      "id": "5k4dIzJeUx-m",
      "execution_count": 22,
      "outputs": []
    },
    {
      "cell_type": "code",
      "source": [
        "U2, S2, Vh2 = linalg.svd(tf_idf, full_matrices=False)\n",
        "print(U2.shape, S2.shape, Vh2.shape)"
      ],
      "metadata": {
        "colab": {
          "base_uri": "https://localhost:8080/"
        },
        "id": "nx-ljSH8R95_",
        "outputId": "ace5398a-f433-4d0f-da12-8e92a07714c5"
      },
      "id": "nx-ljSH8R95_",
      "execution_count": 23,
      "outputs": [
        {
          "output_type": "stream",
          "name": "stdout",
          "text": [
            "(1159, 1159) (1159,) (1159, 3977)\n"
          ]
        }
      ]
    },
    {
      "cell_type": "code",
      "source": [
        "plt.plot(S2);"
      ],
      "metadata": {
        "colab": {
          "base_uri": "https://localhost:8080/",
          "height": 265
        },
        "outputId": "5e217f3a-48d5-48a9-b5f1-67bbdb8f7b39",
        "id": "XRpJrSQ9VeKc"
      },
      "execution_count": 24,
      "outputs": [
        {
          "output_type": "display_data",
          "data": {
            "text/plain": [
              "<Figure size 432x288 with 1 Axes>"
            ],
            "image/png": "[encoded data removed]"
          },
          "metadata": {
            "needs_background": "light"
          }
        }
      ],
      "id": "XRpJrSQ9VeKc"
    },
    {
      "cell_type": "code",
      "source": [
        "show_topics(Vh2[:5], list(Vocabulary.keys()))"
      ],
      "metadata": {
        "colab": {
          "base_uri": "https://localhost:8080/"
        },
        "id": "5LCBsy5NuBu-",
        "outputId": "3b6ff5d4-a0d2-4f64-980e-d9f579b3daa2"
      },
      "id": "5LCBsy5NuBu-",
      "execution_count": 25,
      "outputs": [
        {
          "output_type": "execute_result",
          "data": {
            "text/plain": [
              "['__ dong ding ____ _____ demias20',\n",
              " 'you your what can don do',\n",
              " 'you god the of your and',\n",
              " 'to be the god it will',\n",
              " 'to be have want we are']"
            ]
          },
          "metadata": {},
          "execution_count": 25
        }
      ]
    },
    {
      "cell_type": "markdown",
      "source": [
        "Podemos evidenciar que el tema principal es la religión."
      ],
      "metadata": {
        "id": "r2SAGUmcv-WO"
      },
      "id": "r2SAGUmcv-WO"
    },
    {
      "cell_type": "markdown",
      "source": [
        "Ahora bien, en la factorización no negativa de matrices (*NMF*) y tomar las matrices *H* y *W*, se hace uso de la función de la librería. "
      ],
      "metadata": {
        "id": "XcfKd3KKuts6"
      },
      "id": "XcfKd3KKuts6"
    },
    {
      "cell_type": "code",
      "source": [
        "model_NMF2 = decomposition.NMF(n_components=5, init='nndsvda', random_state=1)  \n",
        "W2 = model_NMF2.fit_transform(np.asarray(tf_idf)) #Transformed data\n",
        "H2 = model_NMF2.components_ "
      ],
      "metadata": {
        "id": "P1Zd7XriWQWD"
      },
      "id": "P1Zd7XriWQWD",
      "execution_count": 26,
      "outputs": []
    },
    {
      "cell_type": "markdown",
      "source": [
        "Teniendo el rsultado de la factorización no negativa de matrices (NMF), podemos obtener los temas principales de los que se tratan.\n"
      ],
      "metadata": {
        "id": "eVjFgd0MWcPc"
      },
      "id": "eVjFgd0MWcPc"
    },
    {
      "cell_type": "code",
      "source": [
        "H2.shape, W2.shape"
      ],
      "metadata": {
        "colab": {
          "base_uri": "https://localhost:8080/"
        },
        "id": "6WO_Ojg_YlHL",
        "outputId": "469d005e-5f5b-4fd7-d5cc-dbde7a16cd1a"
      },
      "id": "6WO_Ojg_YlHL",
      "execution_count": 27,
      "outputs": [
        {
          "output_type": "execute_result",
          "data": {
            "text/plain": [
              "((5, 3977), (1159, 5))"
            ]
          },
          "metadata": {},
          "execution_count": 27
        }
      ]
    },
    {
      "cell_type": "code",
      "source": [
        "show_topics(H2, list(Vocabulary.keys()))"
      ],
      "metadata": {
        "colab": {
          "base_uri": "https://localhost:8080/"
        },
        "outputId": "5d1a99c7-bd61-408a-f869-a41a719ffec1",
        "id": "vGV60gjPWcPd"
      },
      "execution_count": 28,
      "outputs": [
        {
          "output_type": "execute_result",
          "data": {
            "text/plain": [
              "['the of and is god for',\n",
              " 'you your know if can re',\n",
              " 'to be want have hillari women',\n",
              " 'are in for readi 2016 marcorubio',\n",
              " 'not is it abort what do']"
            ]
          },
          "metadata": {},
          "execution_count": 28
        }
      ],
      "id": "vGV60gjPWcPd"
    },
    {
      "cell_type": "markdown",
      "source": [
        "Aquí podemos evidenciar que los tema principales evidentes son la religión y Hillary Clinton."
      ],
      "metadata": {
        "id": "4VATBh5aviqd"
      },
      "id": "4VATBh5aviqd"
    },
    {
      "cell_type": "markdown",
      "id": "3813cb10-ba5c-4eb3-8328-cc605bd1d78f",
      "metadata": {
        "id": "3813cb10-ba5c-4eb3-8328-cc605bd1d78f"
      },
      "source": [
        "## Punto 7\n",
        "Use PCA y realice una interpretación similar a la de la factorizaciones anteriores usando la matriz TF-IDF (¿Qué significa las componentes principales, qué palabras aportan más a cada componente?)."
      ]
    },
    {
      "cell_type": "code",
      "source": [
        "df2 = pd.DataFrame(tf_idf, tw, list(Vocabulary.keys()))"
      ],
      "metadata": {
        "id": "s80y8WYLw1jn"
      },
      "id": "s80y8WYLw1jn",
      "execution_count": 29,
      "outputs": []
    },
    {
      "cell_type": "markdown",
      "source": [
        "Utilizaremos 6 componentes para analizar `PCA`. \n",
        "De esta manera, veremos cuales son las cinco palabras más usadas en algunas de las componentes."
      ],
      "metadata": {
        "id": "6e6UpBt04mtq"
      },
      "id": "6e6UpBt04mtq"
    },
    {
      "cell_type": "code",
      "source": [
        "pca = PCA(n_components = 6)\n",
        "pca.fit_transform(df2)\n",
        "pcaDf = pd.DataFrame(pca.components_, columns=df2.columns, index=['1', '2', '3', '4', '5', '6'])\n",
        "pcaDf = pcaDf.T\n"
      ],
      "metadata": {
        "id": "wEaKQ4haI3c9"
      },
      "id": "wEaKQ4haI3c9",
      "execution_count": 30,
      "outputs": []
    },
    {
      "cell_type": "code",
      "source": [
        "pcaDf[\"2\"].nlargest(5)"
      ],
      "metadata": {
        "colab": {
          "base_uri": "https://localhost:8080/"
        },
        "id": "G9LaDinI4Ucu",
        "outputId": "98782e63-52ad-4a07-d567-e1d5cdc5078e"
      },
      "id": "G9LaDinI4Ucu",
      "execution_count": 31,
      "outputs": [
        {
          "output_type": "execute_result",
          "data": {
            "text/plain": [
              "you    0.371253\n",
              "the    0.341071\n",
              "god    0.308934\n",
              "of     0.278858\n",
              "and    0.124224\n",
              "Name: 2, dtype: float64"
            ]
          },
          "metadata": {},
          "execution_count": 31
        }
      ]
    },
    {
      "cell_type": "code",
      "source": [
        "pcaDf[\"4\"].nlargest(5)"
      ],
      "metadata": {
        "colab": {
          "base_uri": "https://localhost:8080/"
        },
        "id": "Zv1mwSXB4Zay",
        "outputId": "6afe3661-210e-4d95-d19c-37f615a5d5ff"
      },
      "id": "Zv1mwSXB4Zay",
      "execution_count": 32,
      "outputs": [
        {
          "output_type": "execute_result",
          "data": {
            "text/plain": [
              "women    0.390151\n",
              "the      0.288121\n",
              "are      0.271087\n",
              "men      0.253248\n",
              "of       0.241734\n",
              "Name: 4, dtype: float64"
            ]
          },
          "metadata": {},
          "execution_count": 32
        }
      ]
    },
    {
      "cell_type": "code",
      "source": [
        "pcaDf[\"5\"].nlargest(5)"
      ],
      "metadata": {
        "colab": {
          "base_uri": "https://localhost:8080/"
        },
        "id": "Y9m0S4V94b7a",
        "outputId": "13e46f7c-d250-47d2-9588-22aa284abd1e"
      },
      "id": "Y9m0S4V94b7a",
      "execution_count": 33,
      "outputs": [
        {
          "output_type": "execute_result",
          "data": {
            "text/plain": [
              "not     0.369851\n",
              "is      0.359954\n",
              "what    0.273416\n",
              "it      0.180989\n",
              "do      0.178358\n",
              "Name: 5, dtype: float64"
            ]
          },
          "metadata": {},
          "execution_count": 33
        }
      ]
    },
    {
      "cell_type": "code",
      "source": [
        "pcaDf[\"6\"].nlargest(5)"
      ],
      "metadata": {
        "colab": {
          "base_uri": "https://localhost:8080/"
        },
        "id": "GmLVs8DG4ebd",
        "outputId": "e5a6998c-a56a-4897-b5a0-cf15060d83ab"
      },
      "id": "GmLVs8DG4ebd",
      "execution_count": 34,
      "outputs": [
        {
          "output_type": "execute_result",
          "data": {
            "text/plain": [
              "for     0.301303\n",
              "god     0.274247\n",
              "what    0.209738\n",
              "do      0.135064\n",
              "us      0.134902\n",
              "Name: 6, dtype: float64"
            ]
          },
          "metadata": {},
          "execution_count": 34
        }
      ]
    },
    {
      "cell_type": "markdown",
      "id": "406b494e-71cc-411d-8d98-f226e78ed941",
      "metadata": {
        "id": "406b494e-71cc-411d-8d98-f226e78ed941"
      },
      "source": [
        "## Punto 8.\n",
        " Hasta ahora hemos realizado aprendizaje no supervisado, pero también podemos aplicar aprendizaje supervisado. Use las matrices de término-documento anteriores para realizar una clasificación, usando algunos modelos (Multinomial Naive Bayes, Random Forest, LDA, etc.). Debe tener en cuenta que para evaluar correctamente los resultados (al menos) debe usar una partición training-test (recomendable validación cruzada). Compare y discute los resultados a partir de diversas métricas de desempeño (no olvide la matriz de confusión). Sugerencia: realice la vectorización (conteo de palabras) y la clasificación en un Pipeline. "
      ]
    },
    {
      "cell_type": "code",
      "source": [
        "from sklearn.naive_bayes import MultinomialNB\n",
        "from sklearn.feature_extraction.text import TfidfVectorizer\n",
        "from sklearn.model_selection import train_test_split\n",
        "import sklearn as sk\n",
        "import seaborn as sn\n",
        "from sklearn.metrics import confusion_matrix\n",
        "import matplotlib.pyplot as plt"
      ],
      "metadata": {
        "id": "zSYzScWR6lsW"
      },
      "id": "zSYzScWR6lsW",
      "execution_count": 35,
      "outputs": []
    },
    {
      "cell_type": "markdown",
      "source": [
        "El clasificador `Multinomial Naive Bayes` es un clasificador probabilístico basados ​​en la aplicación del teorema de Bayes. Se encuentran entre los modelos de red bayesianos más simples pero, junto con la estimación pueden lograr altos niveles de precisión."
      ],
      "metadata": {
        "id": "OAOksrz0E6t2"
      },
      "id": "OAOksrz0E6t2"
    },
    {
      "cell_type": "code",
      "source": [
        "def MultinomialNaiveBayes(X_train, Y_train, X_test, Y_test):\n",
        "  clf = MultinomialNB()\n",
        "  clf.fit(X_train, Y_train)\n",
        "  y_pred = clf.predict(X_test)\n",
        "  accuracy = sk.metrics.accuracy_score(Y_test, y_pred)\n",
        "  return clf, y_pred, accuracy"
      ],
      "metadata": {
        "id": "j_BZosYgc74x"
      },
      "id": "j_BZosYgc74x",
      "execution_count": 36,
      "outputs": []
    },
    {
      "cell_type": "code",
      "source": [
        "vectorizer_tfidf = TfidfVectorizer(stop_words='english')\n",
        "X = np.asarray(vectorizer_tfidf.fit_transform(df.tweet).todense())\n",
        "Y = np.asarray(df.target)\n",
        "X_train, X_test, Y_train, Y_test = train_test_split(X, Y, test_size=0.2, random_state=1)\n"
      ],
      "metadata": {
        "id": "ZK1U-0YZ68PI"
      },
      "id": "ZK1U-0YZ68PI",
      "execution_count": 37,
      "outputs": []
    },
    {
      "cell_type": "code",
      "source": [
        "clf, y_pred, acc = MultinomialNaiveBayes(X_train, Y_train, X_test, Y_test)"
      ],
      "metadata": {
        "id": "NaR3IcBQ7bp1"
      },
      "id": "NaR3IcBQ7bp1",
      "execution_count": 38,
      "outputs": []
    },
    {
      "cell_type": "markdown",
      "source": [
        "\n",
        "Por otro lado, veremos el accuracy que tuvo el modelo"
      ],
      "metadata": {
        "id": "e1Aug8loD90y"
      },
      "id": "e1Aug8loD90y"
    },
    {
      "cell_type": "code",
      "source": [
        "print('Accuracy: '+ str(acc))"
      ],
      "metadata": {
        "colab": {
          "base_uri": "https://localhost:8080/"
        },
        "id": "qTynN7rSD78R",
        "outputId": "a98ae879-b00a-48ce-9889-b62fc009d92c"
      },
      "id": "qTynN7rSD78R",
      "execution_count": 39,
      "outputs": [
        {
          "output_type": "stream",
          "name": "stdout",
          "text": [
            "Accuracy: 0.7025862068965517\n"
          ]
        }
      ]
    },
    {
      "cell_type": "markdown",
      "source": [
        "Tiene un accuracy de aproximadamente 70%."
      ],
      "metadata": {
        "id": "FlYoSyu-EDs1"
      },
      "id": "FlYoSyu-EDs1"
    },
    {
      "cell_type": "code",
      "source": [
        "data = {'Y_test':    Y_test,\n",
        "        'y_pred': y_pred\n",
        "        }"
      ],
      "metadata": {
        "id": "JeZyy0uL-Z-8"
      },
      "id": "JeZyy0uL-Z-8",
      "execution_count": 40,
      "outputs": []
    },
    {
      "cell_type": "code",
      "source": [
        "df = pd.DataFrame(data, columns=['Y_test','y_pred'])\n",
        "confusion_matrix = pd.crosstab(df['Y_test'], df['y_pred'], rownames=['True'], colnames=['Predicted'])\n",
        "fig, ax = plt.subplots(figsize=(7,7))\n",
        "ax = sn.heatmap(confusion_matrix, annot=True, linewidths=.5)\n",
        "plt.show()"
      ],
      "metadata": {
        "colab": {
          "base_uri": "https://localhost:8080/",
          "height": 534
        },
        "id": "Utxq9QOA-7LO",
        "outputId": "66764a10-dac4-4902-b219-ed7e24153b24"
      },
      "id": "Utxq9QOA-7LO",
      "execution_count": 41,
      "outputs": [
        {
          "output_type": "display_data",
          "data": {
            "text/plain": [
              "<Figure size 504x504 with 2 Axes>"
            ],
            "image/png": "[encoded data removed]"
          },
          "metadata": {
            "needs_background": "light"
          }
        }
      ]
    },
    {
      "cell_type": "markdown",
      "source": [
        "Note que, tiene un porcentaje muy bueno de eficacia. \n",
        "En la diagonal tiene los valores mas alto de toda la matriz. Sin embargo, confunde el ateísmo con la lagalización del aborto. \n",
        "Los demás temas los acierta muy bien \n",
        "\n"
      ],
      "metadata": {
        "id": "IEOYtxYYCvDd"
      },
      "id": "IEOYtxYYCvDd"
    }
  ],
  "metadata": {
    "kernelspec": {
      "display_name": "Python 3 (ipykernel)",
      "language": "python",
      "name": "python3"
    },
    "language_info": {
      "codemirror_mode": {
        "name": "ipython",
        "version": 3
      },
      "file_extension": ".py",
      "mimetype": "text/x-python",
      "name": "python",
      "nbconvert_exporter": "python",
      "pygments_lexer": "ipython3",
      "version": "3.9.7"
    },
    "colab": {
      "name": "Taller1_est.ipynb",
      "provenance": [],
      "collapsed_sections": []
    }
  },
  "nbformat": 4,
  "nbformat_minor": 5
}