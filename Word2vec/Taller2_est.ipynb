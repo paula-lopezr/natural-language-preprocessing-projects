{
 "cells": [
  {
   "cell_type": "markdown",
   "id": "ffa5fa48",
   "metadata": {},
   "source": [
    "<div style=\"text-align: right\"><b> Jessenia Piza Londoño, Paula Lorena López Romero & Laura Alejandra Salazar Pérez. </b></div>"
   ]
  },
  {
   "cell_type": "markdown",
   "id": "6b9406d1",
   "metadata": {
    "id": "303d9d7f-d97e-4164-ac4a-31af770822a0"
   },
   "source": [
    "# Taller 2 de NLP: Word2Vec"
   ]
  },
  {
   "cell_type": "markdown",
   "id": "5d7b3585",
   "metadata": {
    "id": "4deb9569-4d68-40a4-9398-84a8f533f20a"
   },
   "source": [
    "Para este taller deberás disponer de algunas librerías como scikit-learn, NLTK, y GenSim. Se recomienda revisar la [documentación de GenSim](https://radimrehurek.com/gensim/auto_examples/index.html#documentation)."
   ]
  },
  {
   "cell_type": "markdown",
   "id": "83e00695",
   "metadata": {
    "id": "3fb737da-3eeb-4cca-bc6e-ce1c55c82076"
   },
   "source": [
    "## Cargando un modelo  en GenSim y análisis\n",
    "A continuación cargaremos un modelo que no pesa tanto `glove-twitter-50`. Hay modelos más completos y con mayor número de dimensiones en este [link](https://github.com/RaRe-Technologies/gensim-data)"
   ]
  },
  {
   "cell_type": "code",
   "execution_count": 63,
   "id": "d78e554d",
   "metadata": {
    "ExecuteTime": {
     "end_time": "2022-02-14T04:06:59.690028Z",
     "start_time": "2022-02-14T04:06:59.402957Z"
    },
    "execution": {
     "iopub.execute_input": "2022-02-14T03:27:46.900492Z",
     "iopub.status.busy": "2022-02-14T03:27:46.900171Z",
     "iopub.status.idle": "2022-02-14T03:27:46.914919Z",
     "shell.execute_reply": "2022-02-14T03:27:46.914499Z",
     "shell.execute_reply.started": "2022-02-14T03:27:46.900468Z"
    },
    "id": "b7c407cf-1aef-4239-91fb-fc6bd01868ba"
   },
   "outputs": [],
   "source": [
    "import gensim.downloader as api\n",
    "import pandas as pd\n",
    "import numpy as np\n",
    "from sklearn.decomposition import PCA\n",
    "import matplotlib.pyplot as plt\n",
    "import nltk\n",
    "from sklearn.feature_extraction.text import ENGLISH_STOP_WORDS\n",
    "from gensim.models import Word2Vec\n",
    "from sklearn.ensemble import RandomForestClassifier\n",
    "from sklearn.model_selection import train_test_split, cross_val_score\n",
    "from sklearn.metrics import confusion_matrix, ConfusionMatrixDisplay, accuracy_score"
   ]
  },
  {
   "cell_type": "code",
   "execution_count": 2,
   "id": "360f45ee",
   "metadata": {
    "ExecuteTime": {
     "end_time": "2022-02-14T04:07:31.835210Z",
     "start_time": "2022-02-14T04:07:03.095268Z"
    },
    "colab": {
     "base_uri": "https://localhost:8080/"
    },
    "execution": {
     "iopub.execute_input": "2022-02-14T03:37:57.117097Z",
     "iopub.status.busy": "2022-02-14T03:37:57.116886Z",
     "iopub.status.idle": "2022-02-14T03:38:36.444204Z",
     "shell.execute_reply": "2022-02-14T03:38:36.443822Z",
     "shell.execute_reply.started": "2022-02-14T03:37:57.117073Z"
    },
    "id": "a56fd291-d67f-4e40-9330-70f209dcb14d",
    "outputId": "3a263e47-ecde-4583-d9f2-722d027ab04e",
    "tags": []
   },
   "outputs": [],
   "source": [
    "wv = api.load(\"glove-twitter-50\")"
   ]
  },
  {
   "cell_type": "markdown",
   "id": "5a56b26c",
   "metadata": {
    "id": "e57d8193",
    "lang": "es"
   },
   "source": [
    "Una operación común es recuperar el vocabulario de un modelo. Eso es trivial:"
   ]
  },
  {
   "cell_type": "code",
   "execution_count": 3,
   "id": "30a06210",
   "metadata": {
    "ExecuteTime": {
     "end_time": "2022-02-14T04:37:52.995303Z",
     "start_time": "2022-02-14T04:37:52.990347Z"
    },
    "colab": {
     "base_uri": "https://localhost:8080/",
     "height": 217
    },
    "execution": {
     "iopub.execute_input": "2022-02-14T03:40:44.605165Z",
     "iopub.status.busy": "2022-02-14T03:40:44.604959Z",
     "iopub.status.idle": "2022-02-14T03:40:44.610064Z",
     "shell.execute_reply": "2022-02-14T03:40:44.609649Z",
     "shell.execute_reply.started": "2022-02-14T03:40:44.605143Z"
    },
    "id": "64ea170f-2764-4f8f-b53b-8ab0ba15f809",
    "outputId": "12464872-7b58-4f56-e552-70e88160cd4a",
    "tags": []
   },
   "outputs": [
    {
     "name": "stdout",
     "output_type": "stream",
     "text": [
      "palabra #0/1193514 es <user>\n",
      "palabra #1/1193514 es .\n",
      "palabra #2/1193514 es :\n",
      "palabra #3/1193514 es rt\n",
      "palabra #4/1193514 es ,\n",
      "palabra #5/1193514 es <repeat>\n",
      "palabra #6/1193514 es <hashtag>\n",
      "palabra #7/1193514 es <number>\n",
      "palabra #8/1193514 es <url>\n",
      "palabra #9/1193514 es !\n",
      "palabra #10/1193514 es i\n",
      "palabra #11/1193514 es a\n",
      "palabra #12/1193514 es \"\n",
      "palabra #13/1193514 es the\n",
      "palabra #14/1193514 es ?\n",
      "palabra #15/1193514 es you\n",
      "palabra #16/1193514 es to\n",
      "palabra #17/1193514 es (\n",
      "palabra #18/1193514 es <allcaps>\n",
      "palabra #19/1193514 es <elong>\n"
     ]
    }
   ],
   "source": [
    "for index, word in enumerate(wv.index_to_key):\n",
    "    if index == 20:\n",
    "        break\n",
    "    print(f\"palabra #{index}/{len(wv.index_to_key)} es {word}\")"
   ]
  },
  {
   "cell_type": "code",
   "execution_count": 4,
   "id": "d1debe5b",
   "metadata": {
    "ExecuteTime": {
     "end_time": "2022-02-14T04:08:08.494078Z",
     "start_time": "2022-02-14T04:08:08.491678Z"
    },
    "execution": {
     "iopub.execute_input": "2022-02-14T03:41:04.661226Z",
     "iopub.status.busy": "2022-02-14T03:41:04.661017Z",
     "iopub.status.idle": "2022-02-14T03:41:04.664034Z",
     "shell.execute_reply": "2022-02-14T03:41:04.663583Z",
     "shell.execute_reply.started": "2022-02-14T03:41:04.661204Z"
    },
    "id": "a419cf24-26e0-4de7-b99d-8d4777565a2d",
    "tags": []
   },
   "outputs": [],
   "source": [
    "vec_king = wv['king']"
   ]
  },
  {
   "cell_type": "code",
   "execution_count": 5,
   "id": "970140d5",
   "metadata": {
    "ExecuteTime": {
     "end_time": "2022-02-14T04:08:13.402779Z",
     "start_time": "2022-02-14T04:08:13.393216Z"
    },
    "colab": {
     "base_uri": "https://localhost:8080/"
    },
    "execution": {
     "iopub.execute_input": "2022-02-14T03:51:40.935303Z",
     "iopub.status.busy": "2022-02-14T03:51:40.935093Z",
     "iopub.status.idle": "2022-02-14T03:51:40.939582Z",
     "shell.execute_reply": "2022-02-14T03:51:40.939201Z",
     "shell.execute_reply.started": "2022-02-14T03:51:40.935280Z"
    },
    "id": "a2ea255b-bdde-4efa-b4c8-31d87bfc0793",
    "outputId": "b6ea530c-c174-48b1-f4ee-25ab41a613f0",
    "tags": []
   },
   "outputs": [
    {
     "data": {
      "text/plain": [
       "array([-0.77201  , -0.16548  ,  0.22263  , -0.56608  ,  0.15602  ,\n",
       "       -0.050659 ,  0.076896 ,  0.90058  , -0.22829  , -0.083794 ,\n",
       "       -0.0087308,  0.12425  , -3.6283   , -0.70631  ,  0.3391   ,\n",
       "       -0.26866  ,  0.012886 ,  0.1314   ,  0.13072  ,  0.1594   ,\n",
       "       -0.43884  ,  0.30631  , -0.51841  , -0.86402  ,  0.89706  ,\n",
       "       -0.29222  ,  0.071633 , -0.7285   ,  0.47514  , -0.54581  ,\n",
       "        0.37375  , -0.2815   , -0.82164  , -0.1245   ,  0.06561  ,\n",
       "        0.2686   ,  0.12587  , -0.50189  ,  0.41322  , -0.40509  ,\n",
       "       -0.88866  , -0.71627  , -0.010728 , -0.29513  ,  0.098062 ,\n",
       "        0.47936  ,  0.49517  , -0.30246  ,  0.37465  ,  0.010619 ],\n",
       "      dtype=float32)"
      ]
     },
     "execution_count": 5,
     "metadata": {},
     "output_type": "execute_result"
    }
   ],
   "source": [
    "vec_king"
   ]
  },
  {
   "cell_type": "markdown",
   "id": "53e0f192",
   "metadata": {
    "id": "420ba0c2",
    "lang": "es"
   },
   "source": [
    "Desafortunadamente, el modelo no puede inferir vectores para palabras desconocidas. Esta es una limitación de Word2Vec: si esta limitación le importa, consulte el modelo FastText."
   ]
  },
  {
   "cell_type": "code",
   "execution_count": 6,
   "id": "8e18baf1",
   "metadata": {
    "colab": {
     "base_uri": "https://localhost:8080/",
     "height": 325
    },
    "execution": {
     "iopub.execute_input": "2022-02-14T03:45:10.205693Z",
     "iopub.status.busy": "2022-02-14T03:45:10.205485Z",
     "iopub.status.idle": "2022-02-14T03:45:10.216440Z",
     "shell.execute_reply": "2022-02-14T03:45:10.216084Z",
     "shell.execute_reply.started": "2022-02-14T03:45:10.205671Z"
    },
    "id": "b763e578-8271-4775-a394-0f8db13b7fdd",
    "outputId": "006fef9f-2e45-4d9b-8aa6-746c3342bcaa",
    "tags": []
   },
   "outputs": [
    {
     "ename": "KeyError",
     "evalue": "\"Key 'sanime' not present\"",
     "output_type": "error",
     "traceback": [
      "\u001b[1;31m---------------------------------------------------------------------------\u001b[0m",
      "\u001b[1;31mKeyError\u001b[0m                                  Traceback (most recent call last)",
      "Input \u001b[1;32mIn [6]\u001b[0m, in \u001b[0;36m<cell line: 1>\u001b[1;34m()\u001b[0m\n\u001b[1;32m----> 1\u001b[0m \u001b[43mwv\u001b[49m\u001b[43m[\u001b[49m\u001b[38;5;124;43m\"\u001b[39;49m\u001b[38;5;124;43msanime\u001b[39;49m\u001b[38;5;124;43m\"\u001b[39;49m\u001b[43m]\u001b[49m\n",
      "File \u001b[1;32mc:\\users\\jesse\\appdata\\local\\programs\\python\\python39\\lib\\site-packages\\gensim\\models\\keyedvectors.py:404\u001b[0m, in \u001b[0;36mKeyedVectors.__getitem__\u001b[1;34m(self, key_or_keys)\u001b[0m\n\u001b[0;32m    390\u001b[0m \u001b[38;5;124;03m\"\"\"Get vector representation of `key_or_keys`.\u001b[39;00m\n\u001b[0;32m    391\u001b[0m \n\u001b[0;32m    392\u001b[0m \u001b[38;5;124;03mParameters\u001b[39;00m\n\u001b[1;32m   (...)\u001b[0m\n\u001b[0;32m    401\u001b[0m \n\u001b[0;32m    402\u001b[0m \u001b[38;5;124;03m\"\"\"\u001b[39;00m\n\u001b[0;32m    403\u001b[0m \u001b[38;5;28;01mif\u001b[39;00m \u001b[38;5;28misinstance\u001b[39m(key_or_keys, _KEY_TYPES):\n\u001b[1;32m--> 404\u001b[0m     \u001b[38;5;28;01mreturn\u001b[39;00m \u001b[38;5;28;43mself\u001b[39;49m\u001b[38;5;241;43m.\u001b[39;49m\u001b[43mget_vector\u001b[49m\u001b[43m(\u001b[49m\u001b[43mkey_or_keys\u001b[49m\u001b[43m)\u001b[49m\n\u001b[0;32m    406\u001b[0m \u001b[38;5;28;01mreturn\u001b[39;00m vstack([\u001b[38;5;28mself\u001b[39m\u001b[38;5;241m.\u001b[39mget_vector(key) \u001b[38;5;28;01mfor\u001b[39;00m key \u001b[38;5;129;01min\u001b[39;00m key_or_keys])\n",
      "File \u001b[1;32mc:\\users\\jesse\\appdata\\local\\programs\\python\\python39\\lib\\site-packages\\gensim\\models\\keyedvectors.py:447\u001b[0m, in \u001b[0;36mKeyedVectors.get_vector\u001b[1;34m(self, key, norm)\u001b[0m\n\u001b[0;32m    423\u001b[0m \u001b[38;5;28;01mdef\u001b[39;00m \u001b[38;5;21mget_vector\u001b[39m(\u001b[38;5;28mself\u001b[39m, key, norm\u001b[38;5;241m=\u001b[39m\u001b[38;5;28;01mFalse\u001b[39;00m):\n\u001b[0;32m    424\u001b[0m     \u001b[38;5;124;03m\"\"\"Get the key's vector, as a 1D numpy array.\u001b[39;00m\n\u001b[0;32m    425\u001b[0m \n\u001b[0;32m    426\u001b[0m \u001b[38;5;124;03m    Parameters\u001b[39;00m\n\u001b[1;32m   (...)\u001b[0m\n\u001b[0;32m    445\u001b[0m \n\u001b[0;32m    446\u001b[0m \u001b[38;5;124;03m    \"\"\"\u001b[39;00m\n\u001b[1;32m--> 447\u001b[0m     index \u001b[38;5;241m=\u001b[39m \u001b[38;5;28;43mself\u001b[39;49m\u001b[38;5;241;43m.\u001b[39;49m\u001b[43mget_index\u001b[49m\u001b[43m(\u001b[49m\u001b[43mkey\u001b[49m\u001b[43m)\u001b[49m\n\u001b[0;32m    448\u001b[0m     \u001b[38;5;28;01mif\u001b[39;00m norm:\n\u001b[0;32m    449\u001b[0m         \u001b[38;5;28mself\u001b[39m\u001b[38;5;241m.\u001b[39mfill_norms()\n",
      "File \u001b[1;32mc:\\users\\jesse\\appdata\\local\\programs\\python\\python39\\lib\\site-packages\\gensim\\models\\keyedvectors.py:421\u001b[0m, in \u001b[0;36mKeyedVectors.get_index\u001b[1;34m(self, key, default)\u001b[0m\n\u001b[0;32m    419\u001b[0m     \u001b[38;5;28;01mreturn\u001b[39;00m default\n\u001b[0;32m    420\u001b[0m \u001b[38;5;28;01melse\u001b[39;00m:\n\u001b[1;32m--> 421\u001b[0m     \u001b[38;5;28;01mraise\u001b[39;00m \u001b[38;5;167;01mKeyError\u001b[39;00m(\u001b[38;5;124mf\u001b[39m\u001b[38;5;124m\"\u001b[39m\u001b[38;5;124mKey \u001b[39m\u001b[38;5;124m'\u001b[39m\u001b[38;5;132;01m{\u001b[39;00mkey\u001b[38;5;132;01m}\u001b[39;00m\u001b[38;5;124m'\u001b[39m\u001b[38;5;124m not present\u001b[39m\u001b[38;5;124m\"\u001b[39m)\n",
      "\u001b[1;31mKeyError\u001b[0m: \"Key 'sanime' not present\""
     ]
    }
   ],
   "source": [
    "wv[\"sanime\"]"
   ]
  },
  {
   "cell_type": "markdown",
   "id": "7a944f97",
   "metadata": {
    "id": "e6082e94",
    "lang": "es"
   },
   "source": [
    "Continuando, Word2Vec admite varias tareas de similitud de palabras listas para usar. Puedes ver cómo la similitud (¿Que similitud será?) disminuye intuitivamente a medida que las palabras se vuelven cada vez menos similares."
   ]
  },
  {
   "cell_type": "code",
   "execution_count": 7,
   "id": "40169054",
   "metadata": {
    "ExecuteTime": {
     "end_time": "2022-02-14T04:13:11.319163Z",
     "start_time": "2022-02-14T04:13:11.314996Z"
    },
    "colab": {
     "base_uri": "https://localhost:8080/"
    },
    "execution": {
     "iopub.execute_input": "2022-02-14T03:47:38.159949Z",
     "iopub.status.busy": "2022-02-14T03:47:38.159416Z",
     "iopub.status.idle": "2022-02-14T03:47:38.164359Z",
     "shell.execute_reply": "2022-02-14T03:47:38.163950Z",
     "shell.execute_reply.started": "2022-02-14T03:47:38.159925Z"
    },
    "id": "68c443a4-bf35-4e6a-ba04-8335ae961387",
    "outputId": "a762c780-c9f6-4818-a0fb-250202e74ec1",
    "tags": []
   },
   "outputs": [
    {
     "name": "stdout",
     "output_type": "stream",
     "text": [
      "'gato'\t'perro'\t0.85\n",
      "'gato'\t'tigre'\t0.65\n",
      "'gato'\t'rana'\t0.38\n",
      "'gato'\t'nube'\t0.28\n",
      "'gato'\t'politica'\t0.15\n"
     ]
    }
   ],
   "source": [
    "pairs = [\n",
    "    ('gato', 'perro'),   \n",
    "    ('gato', 'tigre'),   \n",
    "    ('gato', 'rana'),  \n",
    "    ('gato', 'nube'),   \n",
    "    ('gato', 'politica'),\n",
    "]\n",
    "for w1, w2 in pairs:\n",
    "    print('%r\\t%r\\t%.2f' % (w1, w2, wv.similarity(w1, w2)))"
   ]
  },
  {
   "cell_type": "markdown",
   "id": "8684411e",
   "metadata": {
    "id": "c0264d69-5a56-4226-ab00-ecb7cd212126"
   },
   "source": [
    "Podemos encontrar las palabras más similares de acuerdo a una medida de similaridad ([la similaridad del coseno](https://en.wikipedia.org/wiki/Cosine_similarity)):"
   ]
  },
  {
   "cell_type": "code",
   "execution_count": 8,
   "id": "96301a89",
   "metadata": {
    "ExecuteTime": {
     "end_time": "2022-02-14T04:15:15.444042Z",
     "start_time": "2022-02-14T04:15:15.411190Z"
    },
    "colab": {
     "base_uri": "https://localhost:8080/",
     "height": 206
    },
    "execution": {
     "iopub.execute_input": "2022-02-14T03:48:26.843790Z",
     "iopub.status.busy": "2022-02-14T03:48:26.843582Z",
     "iopub.status.idle": "2022-02-14T03:48:26.873820Z",
     "shell.execute_reply": "2022-02-14T03:48:26.873516Z",
     "shell.execute_reply.started": "2022-02-14T03:48:26.843768Z"
    },
    "id": "8335e925-fc4b-4864-9e5c-10f78d8a1751",
    "outputId": "4fca5a85-be0d-4c39-c618-6a83cbeb368e",
    "tags": []
   },
   "outputs": [
    {
     "data": {
      "text/html": [
       "<div>\n",
       "<style scoped>\n",
       "    .dataframe tbody tr th:only-of-type {\n",
       "        vertical-align: middle;\n",
       "    }\n",
       "\n",
       "    .dataframe tbody tr th {\n",
       "        vertical-align: top;\n",
       "    }\n",
       "\n",
       "    .dataframe thead th {\n",
       "        text-align: right;\n",
       "    }\n",
       "</style>\n",
       "<table border=\"1\" class=\"dataframe\">\n",
       "  <thead>\n",
       "    <tr style=\"text-align: right;\">\n",
       "      <th></th>\n",
       "      <th>palabra</th>\n",
       "      <th>similaridad</th>\n",
       "    </tr>\n",
       "  </thead>\n",
       "  <tbody>\n",
       "    <tr>\n",
       "      <th>0</th>\n",
       "      <td>camion</td>\n",
       "      <td>0.847325</td>\n",
       "    </tr>\n",
       "    <tr>\n",
       "      <th>1</th>\n",
       "      <td>coche</td>\n",
       "      <td>0.836260</td>\n",
       "    </tr>\n",
       "    <tr>\n",
       "      <th>2</th>\n",
       "      <td>autobús</td>\n",
       "      <td>0.834142</td>\n",
       "    </tr>\n",
       "    <tr>\n",
       "      <th>3</th>\n",
       "      <td>helicóptero</td>\n",
       "      <td>0.820165</td>\n",
       "    </tr>\n",
       "    <tr>\n",
       "      <th>4</th>\n",
       "      <td>avión</td>\n",
       "      <td>0.792418</td>\n",
       "    </tr>\n",
       "  </tbody>\n",
       "</table>\n",
       "</div>"
      ],
      "text/plain": [
       "       palabra  similaridad\n",
       "0       camion     0.847325\n",
       "1        coche     0.836260\n",
       "2      autobús     0.834142\n",
       "3  helicóptero     0.820165\n",
       "4        avión     0.792418"
      ]
     },
     "execution_count": 8,
     "metadata": {},
     "output_type": "execute_result"
    }
   ],
   "source": [
    "pd.DataFrame(wv.most_similar(positive=['carro', 'camión'], topn=5), columns=[\"palabra\", \"similaridad\"])"
   ]
  },
  {
   "cell_type": "markdown",
   "id": "416b4b35",
   "metadata": {
    "id": "a9fd5e85-e2e5-4a05-9835-a9db17eff082"
   },
   "source": [
    "¿Cuál de estos no pertenece a la secuencia?"
   ]
  },
  {
   "cell_type": "code",
   "execution_count": 9,
   "id": "3bd79ff1",
   "metadata": {
    "ExecuteTime": {
     "end_time": "2022-02-14T04:15:43.779444Z",
     "start_time": "2022-02-14T04:15:43.776046Z"
    },
    "colab": {
     "base_uri": "https://localhost:8080/"
    },
    "execution": {
     "iopub.execute_input": "2022-02-14T03:52:47.886432Z",
     "iopub.status.busy": "2022-02-14T03:52:47.886222Z",
     "iopub.status.idle": "2022-02-14T03:52:47.890151Z",
     "shell.execute_reply": "2022-02-14T03:52:47.889740Z",
     "shell.execute_reply.started": "2022-02-14T03:52:47.886410Z"
    },
    "id": "ab8a17b2-d302-45aa-ba9d-6811a5c3507b",
    "outputId": "47137637-baf8-4864-93ac-43f2a4cd9687",
    "tags": []
   },
   "outputs": [
    {
     "name": "stdout",
     "output_type": "stream",
     "text": [
      "carro\n"
     ]
    }
   ],
   "source": [
    "print(wv.doesnt_match(['fuego', 'agua', 'tierra', 'mar', 'aire', 'carro']))"
   ]
  },
  {
   "cell_type": "markdown",
   "id": "4334ee96",
   "metadata": {
    "id": "87fcc523"
   },
   "source": [
    "### Analogias"
   ]
  },
  {
   "cell_type": "markdown",
   "id": "9a88b1a4",
   "metadata": {
    "id": "ff6d54f7",
    "lang": "es"
   },
   "source": [
    "Se ha demostrado que los vectores de palabras *a veces* exhiben la capacidad de resolver analogías.\n",
    "\n",
    "Como ejemplo, para la analogía \"hombre: rey :: mujer: x\" (léase: el hombre es al rey como la mujer es a x), ¿qué es x?\n",
    "\n",
    "En la celda a continuación, se muestra cómo usar vectores de palabras para encontrar x usando la función `most_similar` de la [documentacion de GenSim](https://radimrehurek.com/gensim/models/keyedvectors.html#gensim.models.keyedvectors.KeyedVectors.most_similares). La función encuentra palabras que son más similares a las palabras en la lista \"positiva\" y más diferentes de las palabras en la lista \"negativa\" (mientras omite las palabras de entrada, que a menudo son las más similares). La respuesta a la analogía tendrá la mayor similitud del coseno (mayor valor numérico devuelto)."
   ]
  },
  {
   "cell_type": "code",
   "execution_count": 10,
   "id": "d48b9669",
   "metadata": {
    "ExecuteTime": {
     "end_time": "2022-02-14T04:27:39.603586Z",
     "start_time": "2022-02-14T04:27:39.576082Z"
    },
    "colab": {
     "base_uri": "https://localhost:8080/"
    },
    "id": "e38c3d8f",
    "outputId": "62323a32-8dff-4e22-e363-933d1e9b6e1e"
   },
   "outputs": [
    {
     "data": {
      "text/plain": [
       "[('reina', 0.823491632938385),\n",
       " ('diana', 0.724789559841156),\n",
       " ('victoria', 0.724120557308197),\n",
       " ('shakira', 0.716420590877533),\n",
       " ('chica', 0.7134189009666443),\n",
       " ('luna', 0.6988049149513245),\n",
       " ('colombiana', 0.6971471905708313),\n",
       " ('canción', 0.6866006851196289),\n",
       " ('dulce', 0.6847524046897888),\n",
       " ('karina', 0.6814141869544983)]"
      ]
     },
     "execution_count": 10,
     "metadata": {},
     "output_type": "execute_result"
    }
   ],
   "source": [
    "# esta es la analogia -- hombre : rey :: mujer : x\n",
    "wv.most_similar(positive=['mujer', 'rey'], negative=['hombre'])"
   ]
  },
  {
   "cell_type": "markdown",
   "id": "bc398089",
   "metadata": {
    "id": "b96fb514"
   },
   "source": [
    "#### Ejercicio 1\n",
    "Cree una función denominada `analogia(a,b,c)` donde determine la analogía *a* : *b* :: *c* : *d*, es decir retorne a *d*, como en el ejemplo anterior. Pruebe la función con 5 analogías que se le ocurra (en inglés o en españól, pero no combinadas)"
   ]
  },
  {
   "cell_type": "code",
   "execution_count": 11,
   "id": "13296b9f",
   "metadata": {
    "id": "mFJS5A0it5cB"
   },
   "outputs": [],
   "source": [
    "def analogia(a, b, c):\n",
    "    similar = wv.most_similar(positive=[c, b], negative=[a])\n",
    "    return c, similar[0][0]"
   ]
  },
  {
   "cell_type": "code",
   "execution_count": 12,
   "id": "94eca1e4",
   "metadata": {
    "colab": {
     "base_uri": "https://localhost:8080/"
    },
    "id": "x90ohCOnuUpL",
    "outputId": "e20374f4-56eb-4767-f6f6-49a94360800c"
   },
   "outputs": [
    {
     "data": {
      "text/plain": [
       "('suzuki', 'camaro')"
      ]
     },
     "execution_count": 12,
     "metadata": {},
     "output_type": "execute_result"
    }
   ],
   "source": [
    "analogia('moto', 'carro', 'suzuki')"
   ]
  },
  {
   "cell_type": "code",
   "execution_count": 13,
   "id": "d731555a",
   "metadata": {
    "colab": {
     "base_uri": "https://localhost:8080/"
    },
    "id": "9SETogdauktA",
    "outputId": "faa6c664-1727-45ee-9f1c-701b5541bbf4"
   },
   "outputs": [
    {
     "data": {
      "text/plain": [
       "('jansport', 'croco')"
      ]
     },
     "execution_count": 13,
     "metadata": {},
     "output_type": "execute_result"
    }
   ],
   "source": [
    "analogia('maleta', 'chaqueta', 'jansport')"
   ]
  },
  {
   "cell_type": "code",
   "execution_count": 14,
   "id": "70caabce",
   "metadata": {
    "colab": {
     "base_uri": "https://localhost:8080/"
    },
    "id": "nzz8go0jvNER",
    "outputId": "e2b0545c-5888-4fae-ab36-ba32179696bf"
   },
   "outputs": [
    {
     "data": {
      "text/plain": [
       "('japon', 'francia')"
      ]
     },
     "execution_count": 14,
     "metadata": {},
     "output_type": "execute_result"
    }
   ],
   "source": [
    "analogia('asia', 'europa', 'japon')"
   ]
  },
  {
   "cell_type": "code",
   "execution_count": 15,
   "id": "f31c57a0",
   "metadata": {
    "colab": {
     "base_uri": "https://localhost:8080/"
    },
    "id": "RauMLOAfvhS8",
    "outputId": "47367d42-0123-422b-b092-be8b06225dac"
   },
   "outputs": [
    {
     "data": {
      "text/plain": [
       "('prosecco', 'champers')"
      ]
     },
     "execution_count": 15,
     "metadata": {},
     "output_type": "execute_result"
    }
   ],
   "source": [
    "analogia('vino', 'tequila', 'prosecco')"
   ]
  },
  {
   "cell_type": "code",
   "execution_count": 16,
   "id": "ae95fcb3",
   "metadata": {
    "colab": {
     "base_uri": "https://localhost:8080/"
    },
    "id": "ulWA673sv1sQ",
    "outputId": "727b7dfe-7984-4d30-b830-e6724e925ab8"
   },
   "outputs": [
    {
     "data": {
      "text/plain": [
       "('neymar', 'cristiano')"
      ]
     },
     "execution_count": 16,
     "metadata": {},
     "output_type": "execute_result"
    }
   ],
   "source": [
    "analogia('brasil', 'argentina', 'neymar')\n"
   ]
  },
  {
   "cell_type": "code",
   "execution_count": 17,
   "id": "ecff87a8",
   "metadata": {
    "colab": {
     "base_uri": "https://localhost:8080/"
    },
    "id": "MrHzQ5aOyjJC",
    "outputId": "dd2d9904-ae7f-4140-d7da-e79706cf91e2"
   },
   "outputs": [
    {
     "data": {
      "text/plain": [
       "('samsung', 'nexus')"
      ]
     },
     "execution_count": 17,
     "metadata": {},
     "output_type": "execute_result"
    }
   ],
   "source": [
    "analogia('celular', 'computador', 'samsung')"
   ]
  },
  {
   "cell_type": "markdown",
   "id": "fedbbb9c",
   "metadata": {
    "id": "6e263c41"
   },
   "source": [
    "#### Ejercicio 2\n",
    "Haga un listado de unas 20 palabras y grafiquelas en dos dimensiones (colocando su texto) junto con unas 200 palabras muestreadas aleatoriamente (sin texto). Use para reducir la dimensión PCA. Repita lo mismo usando TSNE."
   ]
  },
  {
   "cell_type": "code",
   "execution_count": 18,
   "id": "9c3b60fc",
   "metadata": {
    "colab": {
     "base_uri": "https://localhost:8080/",
     "height": 245
    },
    "id": "kmpxJqkEz2Bs",
    "outputId": "09aa0f9e-d6df-4632-ddf5-fe6593fc49a1"
   },
   "outputs": [],
   "source": [
    "word_list = wv.index_to_key[1395:1415]\n",
    "words_list = [wv.get_vector(i) for i in word_list]\n",
    "np.random.seed(0)\n",
    "index = np.random.randint(0, len(wv.index_to_key), (1, 200))\n",
    "words = [wv.get_vector(wv.index_to_key[i]) for i in index[0]]"
   ]
  },
  {
   "cell_type": "code",
   "execution_count": 19,
   "id": "95499764",
   "metadata": {
    "id": "rz0PiNT62Co7"
   },
   "outputs": [],
   "source": [
    "pca200 = PCA(n_components=2)\n",
    "X200_pca = pca200.fit_transform(words)"
   ]
  },
  {
   "cell_type": "code",
   "execution_count": 20,
   "id": "329e3234",
   "metadata": {
    "id": "7wBthjqZuUKs"
   },
   "outputs": [],
   "source": [
    "X20_pca = pca200.transform(words_list)"
   ]
  },
  {
   "cell_type": "code",
   "execution_count": 21,
   "id": "ded2307f",
   "metadata": {
    "colab": {
     "base_uri": "https://localhost:8080/",
     "height": 863
    },
    "id": "2gjKaZKb3y0c",
    "outputId": "3079628c-fd1f-4b59-8a20-28426538ceca"
   },
   "outputs": [
    {
     "data": {
      "image/png": "[encoded data removed]",
      "text/plain": [
       "<Figure size 1080x1080 with 1 Axes>"
      ]
     },
     "metadata": {
      "needs_background": "light"
     },
     "output_type": "display_data"
    }
   ],
   "source": [
    "fig, ax = plt.subplots(figsize=(15,15))\n",
    "ax.scatter(X200_pca[:,0], X200_pca[:,1],marker='.')\n",
    "ax.scatter(X20_pca[:,0], X20_pca[:,1],marker='x')\n",
    "\n",
    "for i, txt in enumerate(word_list):\n",
    "    ax.annotate(txt, (X20_pca[i, 0], X20_pca[i, 1]))"
   ]
  },
  {
   "cell_type": "markdown",
   "id": "49d43e64",
   "metadata": {
    "id": "c2ddb3c1"
   },
   "source": [
    "-----"
   ]
  },
  {
   "cell_type": "markdown",
   "id": "fb2b9005",
   "metadata": {
    "id": "2e2aac28"
   },
   "source": [
    "GenSim permite acceder a las palabras mediante diferentes formas sobre un objeto `KeyedVectors` (el wv de antes es uno). `.index_to_key`produce una lista con el vocabulario de forma ordenada, mientras `.key_to_index` produce un diccionario de la forma {palabra: index}."
   ]
  },
  {
   "cell_type": "code",
   "execution_count": 22,
   "id": "88c693c6",
   "metadata": {
    "ExecuteTime": {
     "end_time": "2022-02-14T05:09:19.256005Z",
     "start_time": "2022-02-14T05:09:19.253182Z"
    },
    "colab": {
     "base_uri": "https://localhost:8080/"
    },
    "id": "e95f75eb",
    "outputId": "e12cdf43-8329-4d6c-856a-aaa4289e1535",
    "scrolled": true
   },
   "outputs": [
    {
     "name": "stdout",
     "output_type": "stream",
     "text": [
      "['_', 'mi', 'can', '<sadface>', 'من', '♡', '´', 'he', 'con', 'they', 'now', 'go', '،', 'para', 'los', 'know', 'haha', 'good', 'tu', 'back']\n"
     ]
    }
   ],
   "source": [
    "print(wv.index_to_key[100:120])"
   ]
  },
  {
   "cell_type": "markdown",
   "id": "18f601f8",
   "metadata": {
    "id": "ca19dfb4"
   },
   "source": [
    "## Entrene un nuevo modelo sobre un corpus"
   ]
  },
  {
   "cell_type": "markdown",
   "id": "418804fe",
   "metadata": {
    "id": "cb4dc2ed"
   },
   "source": [
    "Trabajaremos de nuevo con el dataset de `progressive-tweet-sentiment.csv`, el cuál es un dataset pequeño que nos facilitará probar Word2vec. Sin embargo, los resultados pueden no ser tan buenos, dado que Word2vec es más potente cuando el corpus es más grande.\n",
    "\n",
    "`progressive-tweet-sentiment`  tiene algunos tweets recopilados y categorizados en 4 clases: 'Legalization of Abortion', 'Hillary Clinton', 'Feminist Movement', 'Atheism'. "
   ]
  },
  {
   "cell_type": "code",
   "execution_count": 23,
   "id": "08fdbdfa",
   "metadata": {
    "ExecuteTime": {
     "end_time": "2022-02-14T05:11:17.786754Z",
     "start_time": "2022-02-14T05:11:17.773980Z"
    },
    "execution": {
     "iopub.execute_input": "2022-02-14T03:01:40.202685Z",
     "iopub.status.busy": "2022-02-14T03:01:40.202480Z",
     "iopub.status.idle": "2022-02-14T03:01:40.232755Z",
     "shell.execute_reply": "2022-02-14T03:01:40.232412Z",
     "shell.execute_reply.started": "2022-02-14T03:01:40.202661Z"
    },
    "id": "ab41f401",
    "scrolled": true,
    "tags": []
   },
   "outputs": [],
   "source": [
    "df = pd.read_csv(\"progressive-tweet-sentiment.csv\",encoding='latin-1')"
   ]
  },
  {
   "cell_type": "code",
   "execution_count": 24,
   "id": "610b7cab",
   "metadata": {
    "ExecuteTime": {
     "end_time": "2022-02-14T05:11:21.586157Z",
     "start_time": "2022-02-14T05:11:21.578731Z"
    },
    "colab": {
     "base_uri": "https://localhost:8080/",
     "height": 206
    },
    "execution": {
     "iopub.execute_input": "2022-02-14T03:01:42.930300Z",
     "iopub.status.busy": "2022-02-14T03:01:42.930096Z",
     "iopub.status.idle": "2022-02-14T03:01:42.946310Z",
     "shell.execute_reply": "2022-02-14T03:01:42.945940Z",
     "shell.execute_reply.started": "2022-02-14T03:01:42.930277Z"
    },
    "id": "0f313331",
    "outputId": "4437969f-c14c-4ffe-a86d-676a84bae774",
    "tags": []
   },
   "outputs": [
    {
     "data": {
      "text/html": [
       "<div>\n",
       "<style scoped>\n",
       "    .dataframe tbody tr th:only-of-type {\n",
       "        vertical-align: middle;\n",
       "    }\n",
       "\n",
       "    .dataframe tbody tr th {\n",
       "        vertical-align: top;\n",
       "    }\n",
       "\n",
       "    .dataframe thead th {\n",
       "        text-align: right;\n",
       "    }\n",
       "</style>\n",
       "<table border=\"1\" class=\"dataframe\">\n",
       "  <thead>\n",
       "    <tr style=\"text-align: right;\">\n",
       "      <th></th>\n",
       "      <th>target</th>\n",
       "      <th>tweet</th>\n",
       "    </tr>\n",
       "  </thead>\n",
       "  <tbody>\n",
       "    <tr>\n",
       "      <th>0</th>\n",
       "      <td>Legalization of Abortion</td>\n",
       "      <td>Thank you for another day of life Lord. #Chris...</td>\n",
       "    </tr>\n",
       "    <tr>\n",
       "      <th>1</th>\n",
       "      <td>Legalization of Abortion</td>\n",
       "      <td>@rosaryrevival Lovely to use Glorious Mysterie...</td>\n",
       "    </tr>\n",
       "    <tr>\n",
       "      <th>2</th>\n",
       "      <td>Legalization of Abortion</td>\n",
       "      <td>@Niall250 good thing is that #DUP have consist...</td>\n",
       "    </tr>\n",
       "    <tr>\n",
       "      <th>3</th>\n",
       "      <td>Legalization of Abortion</td>\n",
       "      <td>So, you tell me... is murder okay if the victi...</td>\n",
       "    </tr>\n",
       "    <tr>\n",
       "      <th>4</th>\n",
       "      <td>Legalization of Abortion</td>\n",
       "      <td>@HillaryClinton Don't you mean to say (all chi...</td>\n",
       "    </tr>\n",
       "  </tbody>\n",
       "</table>\n",
       "</div>"
      ],
      "text/plain": [
       "                     target                                              tweet\n",
       "0  Legalization of Abortion  Thank you for another day of life Lord. #Chris...\n",
       "1  Legalization of Abortion  @rosaryrevival Lovely to use Glorious Mysterie...\n",
       "2  Legalization of Abortion  @Niall250 good thing is that #DUP have consist...\n",
       "3  Legalization of Abortion  So, you tell me... is murder okay if the victi...\n",
       "4  Legalization of Abortion  @HillaryClinton Don't you mean to say (all chi..."
      ]
     },
     "execution_count": 24,
     "metadata": {},
     "output_type": "execute_result"
    }
   ],
   "source": [
    "df = df[[\"target\", \"tweet\"]]\n",
    "df.head()"
   ]
  },
  {
   "cell_type": "markdown",
   "id": "df0f6c5d",
   "metadata": {
    "id": "c0b65349"
   },
   "source": [
    "#### Ejercicio 3. \n",
    "Realice procedimientos para preprocesar texto cómo: tokenizar, eliminar stopwords, stemming y lemmatization. Al final, el resultado de dicho procesamiento debe ser un texto (no una lista de palabras). Sugerencia: inicie y finalice con métodos de strings de python como `.join()` o `.split()`. (Esto ya lo han hecho en el taller anterior)."
   ]
  },
  {
   "cell_type": "markdown",
   "id": "dacbb23d",
   "metadata": {
    "id": "f8fe4a74",
    "lang": "es"
   },
   "source": [
    "Nota: En NLP, a menudo agregamos tokens <START> y <END> para representar el principio y el final de oraciones, párrafos o documentos. En este caso, pueden colocar tokens `<START>` y `<END>` encapsulando cada documento, por ejemplo, \"<START> All that glitters not gold <END>\", y se puede incluir los tokens en el corpus completo. No es necesario hacer esto para el ejercicio, pero sería interesante."
   ]
  },
  {
   "cell_type": "code",
   "execution_count": 25,
   "id": "374f2a0f",
   "metadata": {
    "id": "y3CHO88LNugH"
   },
   "outputs": [],
   "source": [
    "def tokenizer(tweet):\n",
    "    token = nltk.RegexpTokenizer(r\"\\w+\")\n",
    "    list_tweet = token.tokenize(tweet)\n",
    "    ps = nltk.stem.PorterStemmer()\n",
    "    list_tweet = [x.lower() for x in list_tweet]\n",
    "    list_tweet = [ps.stem(x) for x in list_tweet]\n",
    "    t_new = \" \".join(word for word in list_tweet if word not in ENGLISH_STOP_WORDS)\n",
    "    return t_new"
   ]
  },
  {
   "cell_type": "code",
   "execution_count": 26,
   "id": "21af2a92",
   "metadata": {
    "id": "N1N7zZHjON8T"
   },
   "outputs": [],
   "source": [
    "sentences = df[\"tweet\"].apply(tokenizer)\n",
    "df[\"text_clean\"] = sentences"
   ]
  },
  {
   "cell_type": "code",
   "execution_count": 27,
   "id": "79f7e7fa",
   "metadata": {
    "colab": {
     "base_uri": "https://localhost:8080/"
    },
    "id": "D-iQ5rsIqpri",
    "outputId": "8e95abb5-e14a-409f-d26f-57e3105646fb"
   },
   "outputs": [
    {
     "data": {
      "text/plain": [
       "0       thank anoth day life lord christian cathol tea...\n",
       "1       rosaryreviv love use gloriou mysteri dure east...\n",
       "2       niall250 good thing dup consist said murder wa...\n",
       "3                   tell murder okay victim mental disabl\n",
       "4       hillaryclinton don t mean say children deserv ...\n",
       "                              ...                        \n",
       "1154     creat heaven earth mere play quran 44 38 athiest\n",
       "1155                     god ha wonder way turn neg posit\n",
       "1156                       week grrrrrrrreat spiritu busi\n",
       "1157    human deeper race gender religion s love love ...\n",
       "1158                                   strength life lord\n",
       "Name: tweet, Length: 1159, dtype: object"
      ]
     },
     "execution_count": 27,
     "metadata": {},
     "output_type": "execute_result"
    }
   ],
   "source": [
    "sentences"
   ]
  },
  {
   "cell_type": "markdown",
   "id": "76d69772",
   "metadata": {
    "id": "30a6a9c3"
   },
   "source": [
    "### Entrada al modelo\n",
    "Para entrenar un modelo en GenSim es importante adecuar el texto a una lista de sentencias (y cada sentencia una lista de tokens). Para corpus muy grandes, es mejor crear un iterador (una función que extraiga documento a documento para evitar llenar la memoria). "
   ]
  },
  {
   "cell_type": "markdown",
   "id": "278d0805",
   "metadata": {
    "id": "737a0853"
   },
   "source": [
    "Por ejemplo las tres primeras sentencias del dataset son:"
   ]
  },
  {
   "cell_type": "code",
   "execution_count": 28,
   "id": "456950bb",
   "metadata": {
    "ExecuteTime": {
     "end_time": "2022-02-14T05:32:34.435602Z",
     "start_time": "2022-02-14T05:32:34.430882Z"
    },
    "id": "c84c279e",
    "scrolled": false
   },
   "outputs": [],
   "source": [
    "list_words = [q.split(\" \") for q in sentences]"
   ]
  },
  {
   "cell_type": "markdown",
   "id": "19448cca",
   "metadata": {
    "id": "43ba7aed"
   },
   "source": [
    "#### Ejercicio 4\n",
    "Entrene un modelo usando `gensim.models.word2vec.Word2Vec`, partiendo de la siguiente configuración de parámetros."
   ]
  },
  {
   "cell_type": "code",
   "execution_count": 249,
   "id": "e515e309",
   "metadata": {
    "ExecuteTime": {
     "end_time": "2022-02-14T06:56:54.605988Z",
     "start_time": "2022-02-14T06:56:54.603096Z"
    },
    "id": "1f01079b"
   },
   "outputs": [],
   "source": [
    "vector_size = 150 # numero de elementos del vector que representa la palabra\n",
    "min_count = 1 # Ignores all words with total frequency lower than this. \n",
    "workers = 5 # numero de cpu cores\n",
    "sg = 0 # 0: CBOW, 1: skip-gram\n",
    "window = 5 # Tamano de la ventana de contexto\n",
    "sample = 1e-3 # tasa de submuestreo para terminos frecuentes"
   ]
  },
  {
   "cell_type": "code",
   "execution_count": 250,
   "id": "8ebeba6f",
   "metadata": {
    "ExecuteTime": {
     "end_time": "2022-02-14T06:56:55.312146Z",
     "start_time": "2022-02-14T06:56:55.122226Z"
    },
    "colab": {
     "base_uri": "https://localhost:8080/",
     "height": 172
    },
    "id": "fa068fcb",
    "outputId": "bc772aa5-5cfe-47a0-b05f-4b215a9a6355"
   },
   "outputs": [],
   "source": [
    "model = Word2Vec(sentences=list_words, vector_size=vector_size, window=window, workers=workers)"
   ]
  },
  {
   "cell_type": "markdown",
   "id": "6f947c04",
   "metadata": {
    "id": "2c34b0bb"
   },
   "source": [
    "#### Ejercicio 5\n",
    "Ahora ha obtenido un modelo de Word2vec en el cual tiene una representación embebida de cada palabra. Esta representación la puede extraer para cada palabra usando `model.wv.get_vector(palabra)`. Sin embargo, ¿Qué representación podemos obtener para cada tweet (documento o sentencia) a partir de todas las palabras? \n",
    "\n",
    "Cree una función que extraiga para cada tweet un representación vectorial única (un vector) y añada una nueva columna con esta representación. Sugerencia: una suma (pero será lo mejor?). El resultado es algo similar a la celda siguiente:"
   ]
  },
  {
   "cell_type": "code",
   "execution_count": 251,
   "id": "651a1a77",
   "metadata": {
    "ExecuteTime": {
     "end_time": "2022-02-14T06:57:10.570014Z",
     "start_time": "2022-02-14T06:57:10.535283Z"
    },
    "id": "ad6c7624",
    "scrolled": true
   },
   "outputs": [],
   "source": [
    "def rep_vectorial(tweet):\n",
    "    vec_list = []\n",
    "    for q in tweet:\n",
    "        try:\n",
    "            vec_list.append(model.wv.get_vector(q))\n",
    "        except:\n",
    "            continue\n",
    "    return np.mean(vec_list, axis = 0)"
   ]
  },
  {
   "cell_type": "code",
   "execution_count": 252,
   "id": "01ea0351",
   "metadata": {
    "id": "lR5Eri6cahyC"
   },
   "outputs": [],
   "source": [
    "df[\"vectors\"] = df['text_clean'].apply(rep_vectorial)"
   ]
  },
  {
   "cell_type": "code",
   "execution_count": 253,
   "id": "83a6e28c",
   "metadata": {
    "colab": {
     "base_uri": "https://localhost:8080/",
     "height": 206
    },
    "id": "Lux7NUeza4yp",
    "outputId": "77385b4d-74d1-4827-b5e9-a78d7507229d"
   },
   "outputs": [
    {
     "data": {
      "text/html": [
       "<div>\n",
       "<style scoped>\n",
       "    .dataframe tbody tr th:only-of-type {\n",
       "        vertical-align: middle;\n",
       "    }\n",
       "\n",
       "    .dataframe tbody tr th {\n",
       "        vertical-align: top;\n",
       "    }\n",
       "\n",
       "    .dataframe thead th {\n",
       "        text-align: right;\n",
       "    }\n",
       "</style>\n",
       "<table border=\"1\" class=\"dataframe\">\n",
       "  <thead>\n",
       "    <tr style=\"text-align: right;\">\n",
       "      <th></th>\n",
       "      <th>target</th>\n",
       "      <th>tweet</th>\n",
       "      <th>text_clean</th>\n",
       "      <th>vectors</th>\n",
       "    </tr>\n",
       "  </thead>\n",
       "  <tbody>\n",
       "    <tr>\n",
       "      <th>0</th>\n",
       "      <td>Legalization of Abortion</td>\n",
       "      <td>Thank you for another day of life Lord. #Chris...</td>\n",
       "      <td>thank anoth day life lord christian cathol tea...</td>\n",
       "      <td>[0.007321442, -0.01118042, -0.0047183973, 0.00...</td>\n",
       "    </tr>\n",
       "    <tr>\n",
       "      <th>1</th>\n",
       "      <td>Legalization of Abortion</td>\n",
       "      <td>@rosaryrevival Lovely to use Glorious Mysterie...</td>\n",
       "      <td>rosaryreviv love use gloriou mysteri dure east...</td>\n",
       "      <td>[0.0042991564, -0.00804607, -0.0034720227, 0.0...</td>\n",
       "    </tr>\n",
       "    <tr>\n",
       "      <th>2</th>\n",
       "      <td>Legalization of Abortion</td>\n",
       "      <td>@Niall250 good thing is that #DUP have consist...</td>\n",
       "      <td>niall250 good thing dup consist said murder wa...</td>\n",
       "      <td>[0.0040470674, -0.007681984, -0.004130808, 0.0...</td>\n",
       "    </tr>\n",
       "    <tr>\n",
       "      <th>3</th>\n",
       "      <td>Legalization of Abortion</td>\n",
       "      <td>So, you tell me... is murder okay if the victi...</td>\n",
       "      <td>tell murder okay victim mental disabl</td>\n",
       "      <td>[0.007917175, -0.011091, -0.00529734, 0.006074...</td>\n",
       "    </tr>\n",
       "    <tr>\n",
       "      <th>4</th>\n",
       "      <td>Legalization of Abortion</td>\n",
       "      <td>@HillaryClinton Don't you mean to say (all chi...</td>\n",
       "      <td>hillaryclinton don t mean say children deserv ...</td>\n",
       "      <td>[0.0048517487, -0.008207086, -0.0037133538, 0....</td>\n",
       "    </tr>\n",
       "  </tbody>\n",
       "</table>\n",
       "</div>"
      ],
      "text/plain": [
       "                     target  \\\n",
       "0  Legalization of Abortion   \n",
       "1  Legalization of Abortion   \n",
       "2  Legalization of Abortion   \n",
       "3  Legalization of Abortion   \n",
       "4  Legalization of Abortion   \n",
       "\n",
       "                                               tweet  \\\n",
       "0  Thank you for another day of life Lord. #Chris...   \n",
       "1  @rosaryrevival Lovely to use Glorious Mysterie...   \n",
       "2  @Niall250 good thing is that #DUP have consist...   \n",
       "3  So, you tell me... is murder okay if the victi...   \n",
       "4  @HillaryClinton Don't you mean to say (all chi...   \n",
       "\n",
       "                                          text_clean  \\\n",
       "0  thank anoth day life lord christian cathol tea...   \n",
       "1  rosaryreviv love use gloriou mysteri dure east...   \n",
       "2  niall250 good thing dup consist said murder wa...   \n",
       "3              tell murder okay victim mental disabl   \n",
       "4  hillaryclinton don t mean say children deserv ...   \n",
       "\n",
       "                                             vectors  \n",
       "0  [0.007321442, -0.01118042, -0.0047183973, 0.00...  \n",
       "1  [0.0042991564, -0.00804607, -0.0034720227, 0.0...  \n",
       "2  [0.0040470674, -0.007681984, -0.004130808, 0.0...  \n",
       "3  [0.007917175, -0.011091, -0.00529734, 0.006074...  \n",
       "4  [0.0048517487, -0.008207086, -0.0037133538, 0....  "
      ]
     },
     "execution_count": 253,
     "metadata": {},
     "output_type": "execute_result"
    }
   ],
   "source": [
    "df.head()"
   ]
  },
  {
   "cell_type": "markdown",
   "id": "857311dc",
   "metadata": {
    "id": "4ec3a353"
   },
   "source": [
    "#### Ejercicio 6.\n",
    "Lo que se ha generado antes son unas determinadas variables, para cada tweet, úselas para realizar una clasificación. Para esto divida en un conjunto de entrenamiento y uno de prueba (20%) con una semilla fija (42) y construya un clasificador (recomendado Random Forest). Evalúe el desempeño del clasificador en el conjunto de prueba con el accuracy.  El accuracy debe estar alrededor del 70%. Para lograrlo, tendrá que cambiar la longitud del vector, el ancho de la ventana, si es skip-gram o CBOW, el método de obtención de un sólo documento, etc.\n"
   ]
  },
  {
   "cell_type": "code",
   "execution_count": 254,
   "id": "2520d9b9",
   "metadata": {
    "colab": {
     "base_uri": "https://localhost:8080/",
     "height": 450
    },
    "id": "vU3HYdpxbCQO",
    "outputId": "7cda3b1a-a93d-43d3-83f2-cc80d5ca6461"
   },
   "outputs": [
    {
     "data": {
      "text/plain": [
       "RandomForestClassifier()"
      ]
     },
     "execution_count": 254,
     "metadata": {},
     "output_type": "execute_result"
    }
   ],
   "source": [
    "np.random.seed(42)\n",
    "X_train, X_test, y_train, y_test = train_test_split(np.stack(df['vectors']), np.array(df['target']), test_size=0.2)\n",
    "clf=RandomForestClassifier(n_estimators=100)\n",
    "clf.fit(X_train,y_train)"
   ]
  },
  {
   "cell_type": "code",
   "execution_count": 255,
   "id": "2d2ea65a",
   "metadata": {},
   "outputs": [],
   "source": [
    "Y_pred = clf.predict(X_test)"
   ]
  },
  {
   "cell_type": "code",
   "execution_count": 256,
   "id": "3cf6ddcd",
   "metadata": {},
   "outputs": [],
   "source": [
    "cm = confusion_matrix(y_test, Y_pred)\n",
    "acc = accuracy_score(y_test, Y_pred)\n",
    "accs = cross_val_score(estimator=clf, X=X_train, y=y_train, cv=10)"
   ]
  },
  {
   "cell_type": "code",
   "execution_count": 257,
   "id": "bed9938a",
   "metadata": {},
   "outputs": [],
   "source": [
    "def mapa_de_calor(cm, clf):\n",
    "    disp = ConfusionMatrixDisplay(confusion_matrix=cm, display_labels=clf.classes_)\n",
    "    disp.plot(xticks_rotation='vertical', cmap='Blues')\n",
    "    print(f\"Confusion matrix:\")\n",
    "    plt.show()"
   ]
  },
  {
   "cell_type": "code",
   "execution_count": 261,
   "id": "c50ab16b",
   "metadata": {},
   "outputs": [
    {
     "name": "stdout",
     "output_type": "stream",
     "text": [
      "Confusion matrix:\n"
     ]
    },
    {
     "data": {
      "image/png": "[encoded data removed]",
      "text/plain": [
       "<Figure size 432x288 with 2 Axes>"
      ]
     },
     "metadata": {
      "needs_background": "light"
     },
     "output_type": "display_data"
    }
   ],
   "source": [
    "mapa_de_calor(cm/cm.astype(float).sum(axis=1), clf)"
   ]
  },
  {
   "cell_type": "code",
   "execution_count": 259,
   "id": "e5d6653d",
   "metadata": {},
   "outputs": [
    {
     "name": "stdout",
     "output_type": "stream",
     "text": [
      "Acurracy: 47.41 %\n",
      "Cross Validation score: 37.75 %\n",
      "Standard Deviation: 3.92 % \n",
      "\n"
     ]
    }
   ],
   "source": [
    "print(\"Acurracy: {:.2f} %\".format(acc*100))\n",
    "print(\"Cross Validation score: {:.2f} %\".format(accs.mean()*100))\n",
    "print(\"Standard Deviation: {:.2f} %\".format(accs.std()*100), '\\n')"
   ]
  },
  {
   "cell_type": "markdown",
   "id": "d50b51c7",
   "metadata": {},
   "source": [
    "<div style=\"text-align: right\"><b> Jessenia Piza Londoño, Paula Lorena López Romero & Laura Alejandra Salazar Pérez. </b></div>"
   ]
  }
 ],
 "metadata": {
  "colab": {
   "collapsed_sections": [],
   "name": "Taller2_est.ipynb",
   "provenance": []
  },
  "kernelspec": {
   "display_name": "Python 3 (ipykernel)",
   "language": "python",
   "name": "python3"
  },
  "language_info": {
   "codemirror_mode": {
    "name": "ipython",
    "version": 3
   },
   "file_extension": ".py",
   "mimetype": "text/x-python",
   "name": "python",
   "nbconvert_exporter": "python",
   "pygments_lexer": "ipython3",
   "version": "3.9.0"
  },
  "nbTranslate": {
   "displayLangs": [
    "*"
   ],
   "hotkey": "alt-t",
   "langInMainMenu": true,
   "sourceLang": "en",
   "targetLang": "es",
   "useGoogleTranslate": true
  }
 },
 "nbformat": 4,
 "nbformat_minor": 5
}
